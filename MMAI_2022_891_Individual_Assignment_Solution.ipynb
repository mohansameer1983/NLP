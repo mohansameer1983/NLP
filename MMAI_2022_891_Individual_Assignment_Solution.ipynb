{
  "cells": [
    {
      "cell_type": "markdown",
      "metadata": {
        "id": "view-in-github",
        "colab_type": "text"
      },
      "source": [
        "<a href=\"https://colab.research.google.com/github/mohansameer1983/NLP/blob/main/MMAI_2022_891_Individual_Assignment_Solution.ipynb\" target=\"_parent\"><img src=\"https://colab.research.google.com/assets/colab-badge.svg\" alt=\"Open In Colab\"/></a>"
      ]
    },
    {
      "cell_type": "markdown",
      "metadata": {
        "id": "HKmorPdno_n_"
      },
      "source": [
        "# MMAI 891: Individual Assignment\n",
        "\n",
        "Version 1: Updated February 9, 2022\n",
        "\n",
        "<font color='red'>\\# TODO: fill in the below</font>\n",
        "\n",
        "- [Sameer, Mohan]\n",
        "- [20309780]\n",
        "- [Section 1]\n",
        "- [Greenlight]\n",
        "- [22-04-2022]"
      ]
    },
    {
      "cell_type": "markdown",
      "metadata": {
        "id": "emfFtv4aHBI1"
      },
      "source": [
        "# Assignment Instructions\n",
        "\n",
        "This assignment contains one (1) question with multiple parts and one (1) optional question for bonus marks. The questions and parts are wholly contained in this Google Colab Notebook. \n",
        "\n",
        "You are to make a copy of this Notebook and edit the copy to provide your answers/solutions. You are to complete the assignment entirely within Google Colab. Why?\n",
        "\n",
        "- It gives you practice using cloud-based interactive notebook environments (which is a popular workflow)\n",
        "- It is easier for you to manage the environment (e.g., installing packages, etc.)\n",
        "- Google Colab has nice, beefy machines, so you don't have to worry about running out of memory on your local computer.\n",
        "- It will be easier for the TA to help you debug your code if you need help\n",
        "- It will be easier for the TA to mark/run your code\n",
        "\n",
        "## Questions\n",
        "\n",
        "Each question has multiple tasks. There are two possible types of tasks: tasks that require you to write code and tasks that require you to write text responses. A grading rubric is provided on D2L for each question.\n",
        "\n",
        "For tasks that require **code**:\n",
        "- Use Python to complete the task.\n",
        "- You may use standard Python libraries, including scikit-learn, pandas, and numpy.\n",
        "- Tips:\n",
        "  - Submit code that runs without errors.\n",
        "  - Submit code that is reproducible. E.g., set random number seeds as appropriate. You should be able to run your code again and again and again, from the top of the file to the bottom of the file, and get the exact same results each time. I should be able to run your code, from scratch, again and again, and get the exact same results that you get.\n",
        "  - Submit code that is organized. Make your code readable. Provide comments to describe what the code is doing and why. Don’t leave “old” code lying around. Overall, if your code is clear and easy to read, then we will be happy. When we are happy, we give better marks.\n",
        "\n",
        "For tasks that require **text responses**:\n",
        "- Type your response in Notebook cell indicated.\n",
        "- Use English. Use proper grammar, spelling, and punctuation. Be professional and clear. Be complete, but not overly verbose.\n",
        "- Feel free to use [Markdown syntax](https://www.markdownguide.org/basic-syntax/) to format your answer (i.e., add bold, italics, lists, tables).\n",
        "- You may refer to your code in your answer. Please do so very clearly. E.g., “As can be seen in on line X above …“\n",
        "\n",
        "\n",
        "## What to Submit to the Course Portal\n",
        "\n",
        "- You are to export your completed Notebook as a PDF file by clicking File->Print->Save as PDF.\n",
        "- Please do not submit the Notebook (.ipynb) file to the course portal. \n",
        "- Please submit the PDF export of the Notebook. \n",
        "   - Please name the PDF file 21_891_FirstnameLastName.pdf\n",
        "      - E.g., *21_891_StephenThomas.pdf*\n",
        "   - Please make sure you have run all the cells so we can see the output!\n",
        "   - Best practice: Before exporting to PDF, click Runtime->Restart and run all.\n",
        "\n"
      ]
    },
    {
      "cell_type": "markdown",
      "metadata": {
        "id": "oZFTCX4DqmRO"
      },
      "source": [
        "# Preliminaries: Inspect and Set up environment"
      ]
    },
    {
      "cell_type": "code",
      "execution_count": 233,
      "metadata": {
        "colab": {
          "base_uri": "https://localhost:8080/"
        },
        "id": "-YXvDdiTYhdn",
        "outputId": "2e83e31d-04ef-4910-df22-57b96d74dd4a"
      },
      "outputs": [
        {
          "output_type": "stream",
          "name": "stdout",
          "text": [
            "Requirement already satisfied: unidecode in /usr/local/lib/python3.7/dist-packages (1.3.4)\n",
            "Requirement already satisfied: Lime in /usr/local/lib/python3.7/dist-packages (0.2.0.1)\n",
            "Requirement already satisfied: scipy in /usr/local/lib/python3.7/dist-packages (from Lime) (1.4.1)\n",
            "Requirement already satisfied: scikit-image>=0.12 in /usr/local/lib/python3.7/dist-packages (from Lime) (0.18.3)\n",
            "Requirement already satisfied: matplotlib in /usr/local/lib/python3.7/dist-packages (from Lime) (3.2.2)\n",
            "Requirement already satisfied: numpy in /usr/local/lib/python3.7/dist-packages (from Lime) (1.21.6)\n",
            "Requirement already satisfied: scikit-learn>=0.18 in /usr/local/lib/python3.7/dist-packages (from Lime) (1.0.2)\n",
            "Requirement already satisfied: tqdm in /usr/local/lib/python3.7/dist-packages (from Lime) (4.64.0)\n",
            "Requirement already satisfied: pillow!=7.1.0,!=7.1.1,>=4.3.0 in /usr/local/lib/python3.7/dist-packages (from scikit-image>=0.12->Lime) (7.1.2)\n",
            "Requirement already satisfied: tifffile>=2019.7.26 in /usr/local/lib/python3.7/dist-packages (from scikit-image>=0.12->Lime) (2021.11.2)\n",
            "Requirement already satisfied: PyWavelets>=1.1.1 in /usr/local/lib/python3.7/dist-packages (from scikit-image>=0.12->Lime) (1.3.0)\n",
            "Requirement already satisfied: imageio>=2.3.0 in /usr/local/lib/python3.7/dist-packages (from scikit-image>=0.12->Lime) (2.4.1)\n",
            "Requirement already satisfied: networkx>=2.0 in /usr/local/lib/python3.7/dist-packages (from scikit-image>=0.12->Lime) (2.6.3)\n",
            "Requirement already satisfied: python-dateutil>=2.1 in /usr/local/lib/python3.7/dist-packages (from matplotlib->Lime) (2.8.2)\n",
            "Requirement already satisfied: cycler>=0.10 in /usr/local/lib/python3.7/dist-packages (from matplotlib->Lime) (0.11.0)\n",
            "Requirement already satisfied: pyparsing!=2.0.4,!=2.1.2,!=2.1.6,>=2.0.1 in /usr/local/lib/python3.7/dist-packages (from matplotlib->Lime) (3.0.8)\n",
            "Requirement already satisfied: kiwisolver>=1.0.1 in /usr/local/lib/python3.7/dist-packages (from matplotlib->Lime) (1.4.2)\n",
            "Requirement already satisfied: typing-extensions in /usr/local/lib/python3.7/dist-packages (from kiwisolver>=1.0.1->matplotlib->Lime) (4.2.0)\n",
            "Requirement already satisfied: six>=1.5 in /usr/local/lib/python3.7/dist-packages (from python-dateutil>=2.1->matplotlib->Lime) (1.15.0)\n",
            "Requirement already satisfied: joblib>=0.11 in /usr/local/lib/python3.7/dist-packages (from scikit-learn>=0.18->Lime) (1.1.0)\n",
            "Requirement already satisfied: threadpoolctl>=2.0.0 in /usr/local/lib/python3.7/dist-packages (from scikit-learn>=0.18->Lime) (3.1.0)\n"
          ]
        }
      ],
      "source": [
        "!pip install -q transformers tfds-nightly\n",
        "!pip install unidecode\n",
        "!pip install Lime"
      ]
    },
    {
      "cell_type": "code",
      "execution_count": 234,
      "metadata": {
        "colab": {
          "base_uri": "https://localhost:8080/"
        },
        "id": "xj34Jz-Do_oK",
        "outputId": "95e1ffb4-187e-4565-ff1f-3353d4abb565"
      },
      "outputs": [
        {
          "output_type": "stream",
          "name": "stdout",
          "text": [
            "[nltk_data] Downloading package stopwords to /root/nltk_data...\n",
            "[nltk_data]   Package stopwords is already up-to-date!\n",
            "[nltk_data] Downloading package wordnet to /root/nltk_data...\n",
            "[nltk_data]   Package wordnet is already up-to-date!\n"
          ]
        }
      ],
      "source": [
        "import datetime\n",
        "import pandas as pd\n",
        "import numpy as np\n",
        "import unidecode\n",
        "import nltk\n",
        "from nltk.corpus import stopwords  \n",
        "nltk.download('stopwords')\n",
        "nltk.download('wordnet')\n",
        "from bs4 import BeautifulSoup\n",
        "from nltk.stem import WordNetLemmatizer\n",
        "from sklearn.model_selection import train_test_split\n",
        "from sklearn.feature_extraction.text import CountVectorizer\n",
        "from sklearn.feature_extraction.text import TfidfVectorizer\n",
        "from sklearn.tree import DecisionTreeClassifier\n",
        "from sklearn.pipeline import Pipeline\n",
        "from sklearn.metrics import confusion_matrix, classification_report,accuracy_score\n",
        "from sklearn.ensemble import RandomForestClassifier\n",
        "from xgboost import XGBClassifier\n",
        "import re\n",
        "from sklearn.metrics import roc_curve\n",
        "from sklearn.metrics import roc_auc_score\n",
        "from sklearn.svm import LinearSVC\n",
        "from sklearn.naive_bayes import MultinomialNB\n",
        "# matplotlib\n",
        "import matplotlib.pyplot as plt\n",
        "plt.style.use('seaborn')\n",
        "\n",
        "try: # this is only working on the 2nd try in colab :)\n",
        "  from transformers import DistilBertTokenizer, TFDistilBertModel, DistilBertConfig, AutoTokenizer, AutoModel, AutoConfig\n",
        "except Exception as err: # so we catch the error and import it again\n",
        "  from transformers import DistilBertTokenizer, TFDistilBertModel, DistilBertConfig, AutoTokenizer, AutoModel, AutoConfig\n",
        "\n",
        "import tensorflow as tf\n",
        "import numpy as np\n",
        "import tensorflow.keras as keras\n",
        "from tensorflow.keras.layers import Dense, Input, Dropout, Flatten\n",
        "import lime\n",
        "from lime import lime_text\n",
        "from sklearn.pipeline import make_pipeline\n",
        "from lime.lime_text import LimeTextExplainer"
      ]
    },
    {
      "cell_type": "code",
      "execution_count": 172,
      "metadata": {
        "colab": {
          "base_uri": "https://localhost:8080/"
        },
        "id": "mqQ_XOKyXTS6",
        "outputId": "505c91f8-f85f-4edc-88f4-5c79fef0433e"
      },
      "outputs": [
        {
          "output_type": "stream",
          "name": "stdout",
          "text": [
            "2022-04-30 00:37:17.677547\n"
          ]
        }
      ],
      "source": [
        "print(datetime.datetime.now())"
      ]
    },
    {
      "cell_type": "code",
      "execution_count": 173,
      "metadata": {
        "colab": {
          "base_uri": "https://localhost:8080/"
        },
        "id": "LfOMt1lErLhZ",
        "outputId": "fcc0ce13-4592-430f-c88f-93bf01b0a99e"
      },
      "outputs": [
        {
          "output_type": "stream",
          "name": "stdout",
          "text": [
            "/usr/local/bin/python\n"
          ]
        }
      ],
      "source": [
        "!which python"
      ]
    },
    {
      "cell_type": "code",
      "execution_count": 174,
      "metadata": {
        "colab": {
          "base_uri": "https://localhost:8080/"
        },
        "id": "aub2w1-arM5K",
        "outputId": "8538dd42-f415-4b4f-ca46-b4a05ac85c0c"
      },
      "outputs": [
        {
          "output_type": "stream",
          "name": "stdout",
          "text": [
            "Python 3.7.13\n"
          ]
        }
      ],
      "source": [
        "!python --version"
      ]
    },
    {
      "cell_type": "code",
      "execution_count": 175,
      "metadata": {
        "colab": {
          "base_uri": "https://localhost:8080/"
        },
        "id": "E9Y_n_8UrO9i",
        "outputId": "b7f251b5-d3f7-414b-97dd-e6454ca52634"
      },
      "outputs": [
        {
          "output_type": "stream",
          "name": "stdout",
          "text": [
            "/env/python\n"
          ]
        }
      ],
      "source": [
        "!echo $PYTHONPATH"
      ]
    },
    {
      "cell_type": "markdown",
      "metadata": {
        "id": "qj1NSQelo_oN"
      },
      "source": [
        "# Question 1: Sentiment Analysis via Shallow ML\n",
        "\n",
        "\n",
        "**Marking**\n",
        "\n",
        "The coding parts (i.e., 1.a, 1.b, 1.c4) will be marked based on:\n",
        "\n",
        "- *Correctness*. Code clearly and fully performs the task specified.\n",
        "- *Reproducibility*. Code is fully reproducible. I.e., you (and I) are able to run this Notebook again and again, from top to bottom, and get the same results each time.\n",
        "- *Style*. Code is organized. All parts commented with clear reasoning and rationale. No old code laying around. Code easy to follow.\n",
        "\n",
        "\n",
        "Parts 2 and 3 will be marked on:\n",
        "\n",
        "- *Quality*. Response is well-justified and convincing. Responses uses facts and data where possible.\n",
        "- *Style*. Response uses proper grammar, spelling, and punctuation. Response is clear and professional. Response is complete, but not overly-verbose. Response follows length guidelines.\n"
      ]
    },
    {
      "cell_type": "code",
      "execution_count": 176,
      "metadata": {
        "colab": {
          "base_uri": "https://localhost:8080/"
        },
        "id": "60UNWiX8YmLi",
        "outputId": "200ecef9-2f10-4695-9a5a-3aaa31065e64"
      },
      "outputs": [
        {
          "output_type": "stream",
          "name": "stdout",
          "text": [
            "<class 'pandas.core.frame.DataFrame'>\n",
            "RangeIndex: 2400 entries, 0 to 2399\n",
            "Data columns (total 2 columns):\n",
            " #   Column    Non-Null Count  Dtype \n",
            "---  ------    --------------  ----- \n",
            " 0   Sentence  2400 non-null   object\n",
            " 1   Polarity  2400 non-null   int64 \n",
            "dtypes: int64(1), object(1)\n",
            "memory usage: 37.6+ KB\n"
          ]
        }
      ],
      "source": [
        "# DO NOT MODIFY THIS CELL\n",
        "\n",
        "# First, we'll read the provided labeled training data\n",
        "df = pd.read_csv(\"https://drive.google.com/uc?export=download&id=1b8MAiN-xBdk6scM-DnufkuijDZivZJqM\")\n",
        "df.info()"
      ]
    },
    {
      "cell_type": "code",
      "execution_count": 177,
      "metadata": {
        "colab": {
          "base_uri": "https://localhost:8080/",
          "height": 206
        },
        "id": "pxNvVO7FBnVt",
        "outputId": "6e476689-3e94-46cf-fb64-271137849df9"
      },
      "outputs": [
        {
          "output_type": "execute_result",
          "data": {
            "text/plain": [
              "                                            Sentence  Polarity\n",
              "0                           Wow... Loved this place.         1\n",
              "1                                 Crust is not good.         0\n",
              "2          Not tasty and the texture was just nasty.         0\n",
              "3  Stopped by during the late May bank holiday of...         1\n",
              "4  The selection on the menu was great and so wer...         1"
            ],
            "text/html": [
              "\n",
              "  <div id=\"df-26bafd63-c57e-4ae7-b99b-dd66a54d9509\">\n",
              "    <div class=\"colab-df-container\">\n",
              "      <div>\n",
              "<style scoped>\n",
              "    .dataframe tbody tr th:only-of-type {\n",
              "        vertical-align: middle;\n",
              "    }\n",
              "\n",
              "    .dataframe tbody tr th {\n",
              "        vertical-align: top;\n",
              "    }\n",
              "\n",
              "    .dataframe thead th {\n",
              "        text-align: right;\n",
              "    }\n",
              "</style>\n",
              "<table border=\"1\" class=\"dataframe\">\n",
              "  <thead>\n",
              "    <tr style=\"text-align: right;\">\n",
              "      <th></th>\n",
              "      <th>Sentence</th>\n",
              "      <th>Polarity</th>\n",
              "    </tr>\n",
              "  </thead>\n",
              "  <tbody>\n",
              "    <tr>\n",
              "      <th>0</th>\n",
              "      <td>Wow... Loved this place.</td>\n",
              "      <td>1</td>\n",
              "    </tr>\n",
              "    <tr>\n",
              "      <th>1</th>\n",
              "      <td>Crust is not good.</td>\n",
              "      <td>0</td>\n",
              "    </tr>\n",
              "    <tr>\n",
              "      <th>2</th>\n",
              "      <td>Not tasty and the texture was just nasty.</td>\n",
              "      <td>0</td>\n",
              "    </tr>\n",
              "    <tr>\n",
              "      <th>3</th>\n",
              "      <td>Stopped by during the late May bank holiday of...</td>\n",
              "      <td>1</td>\n",
              "    </tr>\n",
              "    <tr>\n",
              "      <th>4</th>\n",
              "      <td>The selection on the menu was great and so wer...</td>\n",
              "      <td>1</td>\n",
              "    </tr>\n",
              "  </tbody>\n",
              "</table>\n",
              "</div>\n",
              "      <button class=\"colab-df-convert\" onclick=\"convertToInteractive('df-26bafd63-c57e-4ae7-b99b-dd66a54d9509')\"\n",
              "              title=\"Convert this dataframe to an interactive table.\"\n",
              "              style=\"display:none;\">\n",
              "        \n",
              "  <svg xmlns=\"http://www.w3.org/2000/svg\" height=\"24px\"viewBox=\"0 0 24 24\"\n",
              "       width=\"24px\">\n",
              "    <path d=\"M0 0h24v24H0V0z\" fill=\"none\"/>\n",
              "    <path d=\"M18.56 5.44l.94 2.06.94-2.06 2.06-.94-2.06-.94-.94-2.06-.94 2.06-2.06.94zm-11 1L8.5 8.5l.94-2.06 2.06-.94-2.06-.94L8.5 2.5l-.94 2.06-2.06.94zm10 10l.94 2.06.94-2.06 2.06-.94-2.06-.94-.94-2.06-.94 2.06-2.06.94z\"/><path d=\"M17.41 7.96l-1.37-1.37c-.4-.4-.92-.59-1.43-.59-.52 0-1.04.2-1.43.59L10.3 9.45l-7.72 7.72c-.78.78-.78 2.05 0 2.83L4 21.41c.39.39.9.59 1.41.59.51 0 1.02-.2 1.41-.59l7.78-7.78 2.81-2.81c.8-.78.8-2.07 0-2.86zM5.41 20L4 18.59l7.72-7.72 1.47 1.35L5.41 20z\"/>\n",
              "  </svg>\n",
              "      </button>\n",
              "      \n",
              "  <style>\n",
              "    .colab-df-container {\n",
              "      display:flex;\n",
              "      flex-wrap:wrap;\n",
              "      gap: 12px;\n",
              "    }\n",
              "\n",
              "    .colab-df-convert {\n",
              "      background-color: #E8F0FE;\n",
              "      border: none;\n",
              "      border-radius: 50%;\n",
              "      cursor: pointer;\n",
              "      display: none;\n",
              "      fill: #1967D2;\n",
              "      height: 32px;\n",
              "      padding: 0 0 0 0;\n",
              "      width: 32px;\n",
              "    }\n",
              "\n",
              "    .colab-df-convert:hover {\n",
              "      background-color: #E2EBFA;\n",
              "      box-shadow: 0px 1px 2px rgba(60, 64, 67, 0.3), 0px 1px 3px 1px rgba(60, 64, 67, 0.15);\n",
              "      fill: #174EA6;\n",
              "    }\n",
              "\n",
              "    [theme=dark] .colab-df-convert {\n",
              "      background-color: #3B4455;\n",
              "      fill: #D2E3FC;\n",
              "    }\n",
              "\n",
              "    [theme=dark] .colab-df-convert:hover {\n",
              "      background-color: #434B5C;\n",
              "      box-shadow: 0px 1px 3px 1px rgba(0, 0, 0, 0.15);\n",
              "      filter: drop-shadow(0px 1px 2px rgba(0, 0, 0, 0.3));\n",
              "      fill: #FFFFFF;\n",
              "    }\n",
              "  </style>\n",
              "\n",
              "      <script>\n",
              "        const buttonEl =\n",
              "          document.querySelector('#df-26bafd63-c57e-4ae7-b99b-dd66a54d9509 button.colab-df-convert');\n",
              "        buttonEl.style.display =\n",
              "          google.colab.kernel.accessAllowed ? 'block' : 'none';\n",
              "\n",
              "        async function convertToInteractive(key) {\n",
              "          const element = document.querySelector('#df-26bafd63-c57e-4ae7-b99b-dd66a54d9509');\n",
              "          const dataTable =\n",
              "            await google.colab.kernel.invokeFunction('convertToInteractive',\n",
              "                                                     [key], {});\n",
              "          if (!dataTable) return;\n",
              "\n",
              "          const docLinkHtml = 'Like what you see? Visit the ' +\n",
              "            '<a target=\"_blank\" href=https://colab.research.google.com/notebooks/data_table.ipynb>data table notebook</a>'\n",
              "            + ' to learn more about interactive tables.';\n",
              "          element.innerHTML = '';\n",
              "          dataTable['output_type'] = 'display_data';\n",
              "          await google.colab.output.renderOutput(dataTable, element);\n",
              "          const docLink = document.createElement('div');\n",
              "          docLink.innerHTML = docLinkHtml;\n",
              "          element.appendChild(docLink);\n",
              "        }\n",
              "      </script>\n",
              "    </div>\n",
              "  </div>\n",
              "  "
            ]
          },
          "metadata": {},
          "execution_count": 177
        }
      ],
      "source": [
        "df.head()"
      ]
    },
    {
      "cell_type": "code",
      "execution_count": 178,
      "metadata": {
        "id": "ksKqf_fV6pIO"
      },
      "outputs": [],
      "source": [
        "# DO NOT MODIFY THIS CELL\n",
        "\n",
        "# Next, we'll split it into training and test\n",
        "from sklearn.model_selection import train_test_split\n",
        "\n",
        "X = df['Sentence']\n",
        "y = df['Polarity']\n",
        "\n",
        "# So that we can evaluate how well our model is performing, we split our training data\n",
        "# into training and validation.\n",
        "\n",
        "X_train, X_val, y_train, y_val = train_test_split(X, y, random_state=42)"
      ]
    },
    {
      "cell_type": "markdown",
      "metadata": {
        "id": "R04NzckZKbG2"
      },
      "source": [
        "## Part 1.a: Preprocessing and FE Pipeline\n",
        "\n",
        "Clean and preprocess the data (i.e., `X_train`) as you see necessary. Extract features from the text (i.e., vectorization using BOW and/or Bag of N-Grams and/or topics and/or lexical features). \n"
      ]
    },
    {
      "cell_type": "code",
      "execution_count": 179,
      "metadata": {
        "colab": {
          "base_uri": "https://localhost:8080/"
        },
        "id": "Qeavkicwo_oN",
        "outputId": "85600cc7-eba7-4af1-d6f8-ec53557ba348"
      },
      "outputs": [
        {
          "output_type": "stream",
          "name": "stdout",
          "text": [
            "CPU times: user 552 ms, sys: 14.7 ms, total: 567 ms\n",
            "Wall time: 581 ms\n",
            "CPU times: user 138 ms, sys: 2.94 ms, total: 141 ms\n",
            "Wall time: 140 ms\n"
          ]
        }
      ],
      "source": [
        "stop_words = stopwords.words('english') \n",
        "lemmer = WordNetLemmatizer()\n",
        "\n",
        "def preprocess(x):\n",
        "    # Remove HTML tags\n",
        "    x = BeautifulSoup(x, \"lxml\").get_text()\n",
        "\n",
        "    # Lower case\n",
        "    x = x.lower()\n",
        "    \n",
        "    # Remove punctuation\n",
        "    x = re.sub(r'[^\\w\\s]', '', x)\n",
        "    \n",
        "    # Remove non-unicode\n",
        "    x = unidecode.unidecode(x)\n",
        "    \n",
        "    # Remove numbers\n",
        "    x = re.sub(r'\\d+', '', x)\n",
        "    \n",
        "    # Remove stopwords and lemmatize\n",
        "    x = [lemmer.lemmatize(w) for w in x.split() if w not in stop_words]\n",
        "    return ' '.join(x) \n",
        "\n",
        "%time X_train_Clean = X_train.apply(preprocess)\n",
        "%time X_val_Clean = X_val.apply(preprocess)"
      ]
    },
    {
      "cell_type": "markdown",
      "source": [
        "**Note** - On multiple trials for cleaning data, it actually reduced the overall accuracy. So, in below code, will avoid using cleaned data."
      ],
      "metadata": {
        "id": "RkHkXNvOfy_l"
      }
    },
    {
      "cell_type": "code",
      "execution_count": 180,
      "metadata": {
        "id": "4gGwwioMmqaD"
      },
      "outputs": [],
      "source": [
        "vectorizer = TfidfVectorizer()\n",
        "#vectorizer = TfidfVectorizer(max_features = None, ngram_range=[1,4], min_df = 1, max_df = 1)\n"
      ]
    },
    {
      "cell_type": "markdown",
      "source": [
        "**Note** - Using different hyperparameters for TfidVec doesn't help either. So, using plain vanilla and it got the best accuracy."
      ],
      "metadata": {
        "id": "d25waAqOgDEb"
      }
    },
    {
      "cell_type": "markdown",
      "metadata": {
        "id": "m7FIkMnao_oO"
      },
      "source": [
        "## Part 1.b: Model Training/Tuning/Cross Validation\n",
        "\n",
        "Use your favorite shallow ML algorithm (such as decision trees, KNN, random forest, boosting variants) to train a classification model.  Don’t forget everything we’ve learned in the machine learning course: hyperparameter tuning, cross-validation, handling imbalanced data, etc. Make reasonable decisions and try to create the best-performing model that you can.\n"
      ]
    },
    {
      "cell_type": "markdown",
      "source": [
        "###Random Forest Model"
      ],
      "metadata": {
        "id": "Khj8gD78gb5y"
      }
    },
    {
      "cell_type": "code",
      "execution_count": 181,
      "metadata": {
        "id": "cgek8ghwo_oP"
      },
      "outputs": [],
      "source": [
        "pipe = Pipeline([('vec', vectorizer),  ('clf', RandomForestClassifier(random_state=223))])\n",
        "\n",
        "pipe.fit(X_train, y_train)\n",
        "\n",
        "pred_val = pipe.predict(X_val)"
      ]
    },
    {
      "cell_type": "code",
      "source": [
        "print(classification_report(y_val, pred_val))"
      ],
      "metadata": {
        "colab": {
          "base_uri": "https://localhost:8080/"
        },
        "id": "vpJSl6eKYZ24",
        "outputId": "a96f9d8e-3f16-4f25-c91f-9ad2ed464454"
      },
      "execution_count": 182,
      "outputs": [
        {
          "output_type": "stream",
          "name": "stdout",
          "text": [
            "              precision    recall  f1-score   support\n",
            "\n",
            "           0       0.81      0.79      0.80       323\n",
            "           1       0.76      0.78      0.77       277\n",
            "\n",
            "    accuracy                           0.79       600\n",
            "   macro avg       0.79      0.79      0.79       600\n",
            "weighted avg       0.79      0.79      0.79       600\n",
            "\n"
          ]
        }
      ]
    },
    {
      "cell_type": "markdown",
      "source": [
        "###XGBoost Model"
      ],
      "metadata": {
        "id": "wEoSbLFkggLf"
      }
    },
    {
      "cell_type": "code",
      "source": [
        "pipe_xgb = Pipeline([('vec', vectorizer),  ('xgb', XGBClassifier(random_state=223))])\n",
        "\n",
        "pipe_xgb.fit(X_train, y_train)\n",
        "\n",
        "pred_val_xgb = pipe_xgb.predict(X_val)\n",
        "print(classification_report(y_val, pred_val_xgb))"
      ],
      "metadata": {
        "colab": {
          "base_uri": "https://localhost:8080/"
        },
        "id": "4jtc7RvReMUR",
        "outputId": "350e43de-7a5e-4f03-de07-3138c906fc2d"
      },
      "execution_count": 183,
      "outputs": [
        {
          "output_type": "stream",
          "name": "stdout",
          "text": [
            "              precision    recall  f1-score   support\n",
            "\n",
            "           0       0.75      0.84      0.79       323\n",
            "           1       0.79      0.68      0.73       277\n",
            "\n",
            "    accuracy                           0.77       600\n",
            "   macro avg       0.77      0.76      0.76       600\n",
            "weighted avg       0.77      0.77      0.76       600\n",
            "\n"
          ]
        }
      ]
    },
    {
      "cell_type": "markdown",
      "source": [
        "###Naive Bayes Model"
      ],
      "metadata": {
        "id": "dsPvafNnl-YF"
      }
    },
    {
      "cell_type": "code",
      "source": [
        "pipe_nb = Pipeline([('vec', vectorizer),  ('nb', MultinomialNB())])\n",
        "\n",
        "pipe_nb.fit(X_train, y_train)\n",
        "\n",
        "pred_val_nb = pipe_nb.predict(X_val)\n",
        "print(classification_report(y_val, pred_val_nb))\n"
      ],
      "metadata": {
        "colab": {
          "base_uri": "https://localhost:8080/"
        },
        "id": "WkOzKVX6mCj3",
        "outputId": "7def612d-0d6e-4604-848d-5be9e7e35c28"
      },
      "execution_count": 211,
      "outputs": [
        {
          "output_type": "stream",
          "name": "stdout",
          "text": [
            "              precision    recall  f1-score   support\n",
            "\n",
            "           0       0.82      0.84      0.83       323\n",
            "           1       0.80      0.79      0.80       277\n",
            "\n",
            "    accuracy                           0.81       600\n",
            "   macro avg       0.81      0.81      0.81       600\n",
            "weighted avg       0.81      0.81      0.81       600\n",
            "\n"
          ]
        }
      ]
    },
    {
      "cell_type": "markdown",
      "source": [
        "###Linear SVC Model"
      ],
      "metadata": {
        "id": "CyOcPQb5hlif"
      }
    },
    {
      "cell_type": "code",
      "source": [
        "X_train.shape"
      ],
      "metadata": {
        "colab": {
          "base_uri": "https://localhost:8080/"
        },
        "id": "MKwnMk_YjANo",
        "outputId": "f2ac3e32-f100-4100-d49b-f6e587eb08c3"
      },
      "execution_count": 185,
      "outputs": [
        {
          "output_type": "execute_result",
          "data": {
            "text/plain": [
              "(1800,)"
            ]
          },
          "metadata": {},
          "execution_count": 185
        }
      ]
    },
    {
      "cell_type": "code",
      "source": [
        "# Create Pipeline and Fit model\n",
        "pipe_lsvc = Pipeline([('vec', vectorizer),  \n",
        "                    ('ls', LinearSVC())])\n",
        "\n",
        "pipe_lsvc.fit(X_train, y_train)\n",
        "\n",
        "pred_val_lsvc = pipe_lsvc.predict(X_val)\n",
        "print(classification_report(y_val, pred_val_lsvc))"
      ],
      "metadata": {
        "colab": {
          "base_uri": "https://localhost:8080/"
        },
        "id": "2jJLhJnahqQe",
        "outputId": "5c36c14e-f16c-4969-9284-8b96103287b6"
      },
      "execution_count": 186,
      "outputs": [
        {
          "output_type": "stream",
          "name": "stdout",
          "text": [
            "              precision    recall  f1-score   support\n",
            "\n",
            "           0       0.84      0.87      0.85       323\n",
            "           1       0.84      0.81      0.83       277\n",
            "\n",
            "    accuracy                           0.84       600\n",
            "   macro avg       0.84      0.84      0.84       600\n",
            "weighted avg       0.84      0.84      0.84       600\n",
            "\n"
          ]
        }
      ]
    },
    {
      "cell_type": "markdown",
      "metadata": {
        "id": "RjUgRW1N6ppS"
      },
      "source": [
        "## Part 1.c: Model Assessment \n",
        "\n",
        "Use your model to predict the sentiment of the testing data. Measure the performance (e.g., accuracy, AUC, F1-score) of your model. "
      ]
    },
    {
      "cell_type": "code",
      "execution_count": 187,
      "metadata": {
        "colab": {
          "base_uri": "https://localhost:8080/"
        },
        "id": "QYlrWng9MqmL",
        "outputId": "4dcdf3cf-b0ca-44f6-cc44-ae4c1f439821"
      },
      "outputs": [
        {
          "output_type": "stream",
          "name": "stdout",
          "text": [
            "<class 'pandas.core.frame.DataFrame'>\n",
            "RangeIndex: 600 entries, 0 to 599\n",
            "Data columns (total 2 columns):\n",
            " #   Column    Non-Null Count  Dtype \n",
            "---  ------    --------------  ----- \n",
            " 0   Sentence  600 non-null    object\n",
            " 1   Polarity  600 non-null    int64 \n",
            "dtypes: int64(1), object(1)\n",
            "memory usage: 9.5+ KB\n"
          ]
        }
      ],
      "source": [
        "# DO NOT MODIFY THIS CELL\n",
        "\n",
        "test_df = pd.read_csv(\"https://drive.google.com/uc?export=download&id=1taoTluPBUMt9JkKAnlqDTrU49DJFpJGW\")\n",
        "test_df.info()"
      ]
    },
    {
      "cell_type": "code",
      "execution_count": 188,
      "metadata": {
        "colab": {
          "base_uri": "https://localhost:8080/"
        },
        "id": "1zDX1dg4nPEz",
        "outputId": "53df9e47-76f2-4464-f666-2cab4165f6c6"
      },
      "outputs": [
        {
          "output_type": "stream",
          "name": "stdout",
          "text": [
            "CPU times: user 272 ms, sys: 1.77 ms, total: 274 ms\n",
            "Wall time: 402 ms\n"
          ]
        }
      ],
      "source": [
        "#Will not use cleaned test data, due to low accuracy\n",
        "%time test_df['Sentence_clean'] = test_df['Sentence'].apply(preprocess)\n",
        "y_test = test_df['Polarity']"
      ]
    },
    {
      "cell_type": "markdown",
      "source": [
        "###XGBoost Test"
      ],
      "metadata": {
        "id": "UJNi4auRfB2_"
      }
    },
    {
      "cell_type": "code",
      "source": [
        "pred_test_xgb = pipe_xgb.predict(test_df['Sentence'])\n",
        "\n",
        "pred_test_prob_xgb = pipe_xgb.predict_proba(test_df['Sentence'])\n",
        "print(classification_report(y_test, pred_test_xgb))"
      ],
      "metadata": {
        "colab": {
          "base_uri": "https://localhost:8080/"
        },
        "id": "BzPJ0B5JfBCI",
        "outputId": "6eabe7ff-e63b-4ac5-b1bf-c8f8b7da93c9"
      },
      "execution_count": 189,
      "outputs": [
        {
          "output_type": "stream",
          "name": "stdout",
          "text": [
            "              precision    recall  f1-score   support\n",
            "\n",
            "           0       0.59      0.83      0.69       287\n",
            "           1       0.75      0.46      0.57       313\n",
            "\n",
            "    accuracy                           0.64       600\n",
            "   macro avg       0.67      0.65      0.63       600\n",
            "weighted avg       0.67      0.64      0.63       600\n",
            "\n"
          ]
        }
      ]
    },
    {
      "cell_type": "markdown",
      "source": [
        "###Random Forest Test"
      ],
      "metadata": {
        "id": "EpDGfLm2fJwF"
      }
    },
    {
      "cell_type": "code",
      "execution_count": 190,
      "metadata": {
        "id": "yMm6r-wSOUY1"
      },
      "outputs": [],
      "source": [
        "pred_test = pipe.predict(test_df['Sentence'])\n",
        "\n",
        "pred_test_prob = pipe.predict_proba(test_df['Sentence'])"
      ]
    },
    {
      "cell_type": "code",
      "execution_count": 191,
      "metadata": {
        "colab": {
          "base_uri": "https://localhost:8080/"
        },
        "id": "F6IOygjXnk8J",
        "outputId": "b39bde7f-3d1d-43c7-c826-80576034d42d"
      },
      "outputs": [
        {
          "output_type": "stream",
          "name": "stdout",
          "text": [
            "              precision    recall  f1-score   support\n",
            "\n",
            "           0       0.64      0.82      0.72       287\n",
            "           1       0.78      0.58      0.67       313\n",
            "\n",
            "    accuracy                           0.69       600\n",
            "   macro avg       0.71      0.70      0.69       600\n",
            "weighted avg       0.71      0.69      0.69       600\n",
            "\n",
            "auc_score_test: 0.7731128452316016\n",
            "accuracy 0.695\n"
          ]
        }
      ],
      "source": [
        "print(classification_report(y_test, pred_test))\n",
        "fpr, tpr, thresh = roc_curve(y_test, pred_test_prob[:,1], pos_label=1)\n",
        "\n",
        "# roc curve for tpr = fpr \n",
        "random_probs = [0 for i in range(len(y_test))]\n",
        "p_fpr, p_tpr, _ = roc_curve(y_test, random_probs, pos_label=1)\n",
        "\n",
        "auc_score = roc_auc_score(y_test, pred_test_prob[:,1])\n",
        "\n",
        "print('auc_score_test:',auc_score)\n",
        "print('accuracy %s' % accuracy_score(pred_test, y_test))"
      ]
    },
    {
      "cell_type": "markdown",
      "source": [
        "###Naive Bayes Test"
      ],
      "metadata": {
        "id": "c1jpTMTBmbvn"
      }
    },
    {
      "cell_type": "code",
      "source": [
        "pred_test_nb = pipe_nb.predict(test_df['Sentence'])\n",
        "\n",
        "pred_test_prob_nb = pipe_nb.predict_proba(test_df['Sentence'])\n",
        "print(classification_report(y_test, pred_test_nb))"
      ],
      "metadata": {
        "colab": {
          "base_uri": "https://localhost:8080/"
        },
        "id": "JIsAdnLxmfKo",
        "outputId": "83b06a47-c277-4adc-ff55-e6f2455ff64b"
      },
      "execution_count": 212,
      "outputs": [
        {
          "output_type": "stream",
          "name": "stdout",
          "text": [
            "              precision    recall  f1-score   support\n",
            "\n",
            "           0       0.72      0.85      0.78       287\n",
            "           1       0.84      0.70      0.77       313\n",
            "\n",
            "    accuracy                           0.78       600\n",
            "   macro avg       0.78      0.78      0.77       600\n",
            "weighted avg       0.78      0.78      0.77       600\n",
            "\n"
          ]
        }
      ]
    },
    {
      "cell_type": "markdown",
      "source": [
        "###Linear SVC Test"
      ],
      "metadata": {
        "id": "nu3seVAxkJ0X"
      }
    },
    {
      "cell_type": "code",
      "source": [
        "pred_test_lsvc = pipe_lsvc.predict(test_df['Sentence'])\n",
        "\n",
        "print(classification_report(y_test, pred_test_lsvc))"
      ],
      "metadata": {
        "colab": {
          "base_uri": "https://localhost:8080/"
        },
        "id": "0GXw0cIWkJfB",
        "outputId": "008f3af1-1046-4e26-ffe4-ee14bf40f8ed"
      },
      "execution_count": 193,
      "outputs": [
        {
          "output_type": "stream",
          "name": "stdout",
          "text": [
            "              precision    recall  f1-score   support\n",
            "\n",
            "           0       0.72      0.79      0.76       287\n",
            "           1       0.79      0.72      0.76       313\n",
            "\n",
            "    accuracy                           0.76       600\n",
            "   macro avg       0.76      0.76      0.76       600\n",
            "weighted avg       0.76      0.76      0.76       600\n",
            "\n"
          ]
        }
      ]
    },
    {
      "cell_type": "markdown",
      "metadata": {
        "id": "6wUBcyrdM3__"
      },
      "source": [
        "## Part 2: Given the performance of your model, are you satisfied with the results? Explain.\n",
        "\n",
        "Keep your response to 1000 characters or less."
      ]
    },
    {
      "cell_type": "markdown",
      "metadata": {
        "id": "4oCr-mTfNG-H"
      },
      "source": [
        "Given that we are using shallow ML for classification, in my opinion we got good accuracy score. We have tried cleaning data, TfIdfVec hyper parameter tuning etc. In the end, models performed better without those steps. So, I can say I am satisfied with the steps tried in this problem.\n",
        "\n",
        "\n",
        "*   Best Model - Naive Bayes - 78% Accuracy\n",
        "*   No preprocessing of data needed\n",
        "*   No hyperparameter tuning worked for TfIdfVec or for models we have tried, which could improve the score.\n",
        "\n"
      ]
    },
    {
      "cell_type": "markdown",
      "metadata": {
        "id": "Sz8dTvnJNKLL"
      },
      "source": [
        "## Part 3: Show five test instances in which your model was incorrect. Dive deep and find out why your model was wrong.\n",
        "\n",
        "Keep your response to 1000 characters or less."
      ]
    },
    {
      "cell_type": "code",
      "execution_count": 213,
      "metadata": {
        "colab": {
          "base_uri": "https://localhost:8080/"
        },
        "id": "eyEMIxPkpryA",
        "outputId": "bfe54e6a-a5b8-49b6-bd08-3ea9b9b38d3b"
      },
      "outputs": [
        {
          "output_type": "stream",
          "name": "stdout",
          "text": [
            "Sample (3, \"It's a feel-good film and that's how I felt when I came out of the cinema!  \") , has been classified as 0 and should be 1\n",
            "Sample (12, 'Not too screamy not to masculine but just right.  ') , has been classified as 0 and should be 1\n",
            "Sample (14, 'I would have casted her in that role after ready the script.  ') , has been classified as 0 and should be 1\n",
            "Sample (26, 'I wish I could enter negative values, admins?  ') , has been classified as 1 and should be 0\n",
            "Sample (34, '1/10 - and only because there is no setting for 0/10.  ') , has been classified as 1 and should be 0\n",
            "Sample (36, \"The soundtrack wasn't terrible, either.  \") , has been classified as 0 and should be 1\n",
            "Sample (38, 'Still, it was the SETS that got a big \"10\" on my \"oy-vey\" scale.  ') , has been classified as 0 and should be 1\n",
            "Sample (39, 'Yes, I am simplifying things here for the sake of brevity, for this really is at the core of the problems with this film - it has too much going on without any real, fulfilling explanation.  ') , has been classified as 1 and should be 0\n",
            "Sample (43, 'The last 15 minutes of movie are also not bad as well.  ') , has been classified as 0 and should be 1\n",
            "Sample (46, \"I like Armand Assante & my cable company's summary sounded interesting, so I watched it, twice already, and probably will again.  \") , has been classified as 0 and should be 1\n",
            "Sample (47, 'I believe the screenwriter did a good job of tying up the loose ends.  ') , has been classified as 0 and should be 1\n",
            "Sample (48, 'My 8/10 score is mostly for the plot.  ') , has been classified as 0 and should be 1\n",
            "Sample (49, \"I won't say any more - I don't like spoilers, so I don't want to be one, but I believe this film is worth your time.  \") , has been classified as 0 and should be 1\n",
            "Sample (53, 'Not even good for camp value!  ') , has been classified as 1 and should be 0\n",
            "Sample (58, \"This gets a 1 out of 10, simply because there's nothing lower.  \") , has been classified as 1 and should be 0\n",
            "Sample (66, 'Whatever the producer was going for, he missed entirely.  ') , has been classified as 1 and should be 0\n",
            "Sample (77, 'The directing is sloppy at best.  ') , has been classified as 1 and should be 0\n",
            "Sample (80, 'The acting by the whole cast could be put on a scale and balanced perfectly between overacting and underacting.  ') , has been classified as 1 and should be 0\n",
            "Sample (81, \"And, FINALLY, after all that, we get to an ending that would've been great had it been handled by competent people and not Jerry Falwell.  \") , has been classified as 1 and should be 0\n",
            "Sample (84, \"This movie contained an all-star cast, and what I loved the most was that it opened my eyes to see other actors who I haven't seen before.  \") , has been classified as 0 and should be 1\n",
            "Sample (87, 'Lifetime does not air it enough, so if anyone knows what store sells it let me know because this is a must-have.  ') , has been classified as 0 and should be 1\n",
            "Sample (90, 'Totally different, with loads of understatement and black comedy, this is a film few get to see, but those who do will remember it.  ') , has been classified as 0 and should be 1\n",
            "Sample (92, 'But this movie really got to me.  ') , has been classified as 0 and should be 1\n",
            "Sample (93, 'See it.  ') , has been classified as 0 and should be 1\n",
            "Sample (94, 'I really hope the team behind this movie makes more movies, and that they will continue to do so in their own, some kinda weird style.  ') , has been classified as 0 and should be 1\n",
            "Sample (98, 'Initially the local sites in the film, which was filmed here in Buffalo, intrigued me.  ') , has been classified as 0 and should be 1\n",
            "Sample (99, 'Later I found myself lost in the power of the film.  ') , has been classified as 0 and should be 1\n",
            "Sample (124, 'Full of unconvincing cardboard characters it is blandly written by Edward Chodorov, who also produced, and is surprisingly directed by Jean Negulesco from whom one would expect a great deal more.  ') , has been classified as 1 and should be 0\n",
            "Sample (126, 'His losing his marbles so early in the proceedings is totally implausible and unconvincing.  ') , has been classified as 1 and should be 0\n",
            "Sample (128, 'Whatever prompted such a documentary is beyond me!  ') , has been classified as 1 and should be 0\n",
            "Sample (139, 'i wouldnt see this movie again for free.  ') , has been classified as 1 and should be 0\n",
            "Sample (141, 'This second appearance of Mickey Mouse (following the silent PLANE CRAZY earlier that year) is probably his most famous film--mostly because it was so ground-breaking.  ') , has been classified as 0 and should be 1\n",
            "Sample (142, \"While you don't yet hear Mickey speak, there are tons of sound effects and music throughout the film--something we take for granted now but which was a huge crowd pleaser in 1928.  \") , has been classified as 0 and should be 1\n",
            "Sample (147, \"I'm terribly disappointed that this film would receive so many awards and accolades, especially when there are far more deserving works of film out there.  \") , has been classified as 1 and should be 0\n",
            "Sample (154, \"It's a shame to see good actors like Thomerson and James make a living in a mess like this.  \") , has been classified as 1 and should be 0\n",
            "Sample (172, 'Not recommended.  ') , has been classified as 1 and should be 0\n",
            "Sample (179, 'The budget was evidently very limited.  ') , has been classified as 1 and should be 0\n",
            "Sample (182, 'Filmiing was less expansive.  ') , has been classified as 1 and should be 0\n",
            "Sample (183, 'It failed to convey the broad sweep of landscapes that were a great part of the original.  ') , has been classified as 1 and should be 0\n",
            "Sample (185, 'Not recommended.  ') , has been classified as 1 and should be 0\n",
            "Sample (195, 'Easily, none other cartoon made me laugh in a tender way (before getting into dark sitcoms oriented for teenagers).  ') , has been classified as 0 and should be 1\n",
            "Sample (198, 'Every element of this story was so over the top, excessively phony and contrived that it was painful to sit through.  ') , has been classified as 1 and should be 0\n",
            "Sample (204, 'To be honest with you, this is unbelievable nonsense and very foolish.  ') , has been classified as 1 and should be 0\n",
            "Sample (208, 'And the accents are absolutely abysmal!  ') , has been classified as 1 and should be 0\n",
            "Sample (211, 'I believe that Pitch Black was done well.  ') , has been classified as 0 and should be 1\n",
            "Sample (212, \"The characters are interesting and you want to find out more about them the longer the movie goes on, and I think people will be surprised by who does and doesn't make it.  \") , has been classified as 0 and should be 1\n",
            "Sample (213, 'Go watch it!  ') , has been classified as 0 and should be 1\n",
            "Sample (216, 'My rating: just 3 out of 10.  ') , has been classified as 1 and should be 0\n",
            "Sample (219, \"Don't miss it.  \") , has been classified as 0 and should be 1\n",
            "Sample (238, 'I have to say that this film was excellently produced and tops the ratings as a typical sci fi film!  ') , has been classified as 0 and should be 1\n",
            "Sample (242, \"There's barely a boring moment in the film and there are plenty of humorous parts.  \") , has been classified as 0 and should be 1\n",
            "Sample (249, 'I believe every one should see this movie as I think few people outside of South Africa understand its past and what is being attempted in the Truth and Reconciliation process.  ') , has been classified as 0 and should be 1\n",
            "Sample (252, \"Don't be afraid of subtitles........ its worth a little aversion therapy 10/10  \") , has been classified as 0 and should be 1\n",
            "Sample (258, 'Helen Baxendale is a very credible lady Macbeth who can be very cheerfull at times and sometimes she just looks like a naughty girl, but deadly in her taste for blood and evil.  ') , has been classified as 0 and should be 1\n",
            "Sample (268, 'Speaking of the music, it is unbearably predictably and kitchy.  ') , has been classified as 1 and should be 0\n",
            "Sample (271, 'Raw and sublimely moving.  ') , has been classified as 0 and should be 1\n",
            "Sample (273, 'All of the main players are mesmerising.  ') , has been classified as 0 and should be 1\n",
            "Sample (275, 'Julian Fellowes has triumphed again.  ') , has been classified as 0 and should be 1\n",
            "Sample (281, 'The film gives meaning to the phrase, \"Never in the history of human conflict has so much been owed by so many to so few.  ') , has been classified as 0 and should be 1\n",
            "Sample (291, 'Shot in the Southern California desert using his patent faux documentary style, Watkins creates a film like no other.  ') , has been classified as 0 and should be 1\n",
            "Sample (293, 'I advise you to look out for it.  ') , has been classified as 0 and should be 1\n",
            "Sample (294, 'You wont regret it!  ') , has been classified as 0 and should be 1\n",
            "Sample (303, 'The results, well, are a shame.  ') , has been classified as 1 and should be 0\n",
            "Sample (310, 'The stories were as unbelievable as the actors.  ') , has been classified as 1 and should be 0\n",
            "Sample (316, 'The lines, the cuts, the audio, everything is wrong.  ') , has been classified as 1 and should be 0\n",
            "Sample (321, \"So mediocre in every aspect that it just becomes a dull, uninteresting mess, this is one of the most forgettable movies I've seen.  \") , has been classified as 1 and should be 0\n",
            "Sample (334, \"It's one of the movies I need to see whenever it comes on TV...never mind the fact that I already have it memorized!  \") , has been classified as 0 and should be 1\n",
            "Sample (336, 'That was done in the second movie.  ') , has been classified as 1 and should be 0\n",
            "Sample (348, \"I'm a big fan of this series mostly due to Anne Rice's style, sensitivities and treatments.  \") , has been classified as 0 and should be 1\n",
            "Sample (349, 'I guess I liked the details of his dysfunction--he was believable.  ') , has been classified as 0 and should be 1\n",
            "Sample (351, 'But I thought his acting was skilled.  ') , has been classified as 0 and should be 1\n",
            "Sample (354, \"It is rare when a film-maker takes the time to tell a worthy moral tale with care and love that doesn't fall into the trap of being overly syrupy or over indulgent.  \") , has been classified as 0 and should be 1\n",
            "Sample (358, 'A standout scene.  ') , has been classified as 0 and should be 1\n",
            "Sample (359, 'This scene is very strong and unpleasant.  ') , has been classified as 1 and should be 0\n",
            "Sample (363, \"I liked the way Dustin Hoffman's character was ready to do just about everything to stay with his son.  \") , has been classified as 0 and should be 1\n",
            "Sample (365, 'Personally, I think it shows that people should learn to find a compromise them self without involving other people into issue.  ') , has been classified as 0 and should be 1\n",
            "Sample (367, 'I am so tired of clichés that is just lazy writing, and here they come in thick and fast.  ') , has been classified as 1 and should be 0\n",
            "Sample (368, 'PS the only scene in the movie that was cool is when the central character finds her room blown up.  ') , has been classified as 0 and should be 1\n",
            "Sample (372, 'You learn a lot about the real inside emotions of people in this movie, and a lot about the movie business itself.  ') , has been classified as 0 and should be 1\n",
            "Sample (375, \"You won't forget this movie!  \") , has been classified as 0 and should be 1\n",
            "Sample (377, 'The film has an ultra-cheap look to it.  ') , has been classified as 1 and should be 0\n",
            "Sample (383, \"But the duet between the astronaut and his doctor at the beginning of the movie is a perfect exchange if one considers that this movie was made well into the Cold War and the astronaut's biggest fear is that he has crashed in the USSR.  \") , has been classified as 0 and should be 1\n",
            "Sample (387, 'If you want a real scare rent this one!  ') , has been classified as 0 and should be 1\n",
            "Sample (391, \"This film highlights the fundamental flaws of the legal process, that it's not about discovering guilt or innocence, but rather, is about who presents better in court.  \") , has been classified as 0 and should be 1\n",
            "Sample (394, 'Predictable, but not a bad watch.  ') , has been classified as 0 and should be 1\n",
            "Sample (395, 'It was clear that she had the range and ability to pull off this part.  ') , has been classified as 0 and should be 1\n",
            "Sample (400, 'In fact, this stinker smells like a direct-to-video release.  ') , has been classified as 1 and should be 0\n",
            "Sample (405, 'The only place good for this film is in the garbage.  ') , has been classified as 1 and should be 0\n",
            "Sample (408, \"When a song could explain the emotions of the subjects better, such as when Jay Adams' unfortunate life was a subject of talk, the song Old Man by Neil Young was played, which evokes many emotions.  \") , has been classified as 0 and should be 1\n",
            "Sample (410, 'Of course the footage from the 70s was grainy, but that only enhanced the film.  ') , has been classified as 0 and should be 1\n",
            "Sample (415, 'But this understated film leaves a lasting impression.  ') , has been classified as 0 and should be 1\n",
            "Sample (417, 'You will leave the theater wanting to go out and dance under the stars.  ') , has been classified as 0 and should be 1\n",
            "Sample (422, \"It's a long time since I was so entertained by a movie.  \") , has been classified as 0 and should be 1\n",
            "Sample (423, 'I struggle to find anything bad to say about it.  ') , has been classified as 0 and should be 1\n",
            "Sample (426, \"The film deserves strong kudos for taking this stand, for having exceptional acting from its mostly lesser-known cast and for the super-intelligent script that doesn't insult the audience or take the easy way out when it comes to white racism.  \") , has been classified as 0 and should be 1\n",
            "Sample (432, 'It was that year, however, that reminded us that Huston was still at the top of his game as evinced by his faithful adaptation of James Joyce\\'s acclaimed novella \"The Dead.  ') , has been classified as 0 and should be 1\n",
            "Sample (443, \"It has everything you could want... suspense, drama, comedy, confusing subplots, native americans, brain eating... If you're looking for the be-all, end-all of brainsucking movies, look no further.  \") , has been classified as 0 and should be 1\n",
            "Sample (445, 'Call me a nut, but I think this is one of the best movies ever.  ') , has been classified as 0 and should be 1\n",
            "Sample (450, 'Now imagine that every single one of those decisions was made wrong.  ') , has been classified as 1 and should be 0\n",
            "Sample (453, 'Everything stinks.  ') , has been classified as 1 and should be 0\n",
            "Sample (459, \"The best scene in the movie is at the end, but I won't spoil it.  \") , has been classified as 0 and should be 1\n",
            "Sample (460, \"If there was ever an indication of a writer and a director's ability to meld two highly volatile temperaments into a seamless union of creativity, then this is it!  \") , has been classified as 0 and should be 1\n",
            "Sample (461, \"The result is a powerhouse achievement, made more timely now perhaps because of our culture's disturbing fascination with celebrity, and it's distorted interpretations of fame.  \") , has been classified as 0 and should be 1\n",
            "Sample (462, 'A film not easily forgotten.  ') , has been classified as 0 and should be 1\n",
            "Sample (465, 'The characters are interesting, even if a bit predictable.  ') , has been classified as 0 and should be 1\n",
            "Sample (466, 'Highly recommended for all ages, although the younger set will probably not appreciate some of the more subtle references, they will certainly appreciate one galley scene in particular!  ') , has been classified as 0 and should be 1\n",
            "Sample (472, 'The story starts too fast with absolutely no suspense or build-up in the slightest.  ') , has been classified as 1 and should be 0\n",
            "Sample (487, 'At any rate this film stinks, its not funny, and Fulci should have stayed with giallo and supernatural zombie movies.  ') , has been classified as 1 and should be 0\n",
            "Sample (490, 'The only consistent thread holding the series together were the amazing performances of Leni Parker and Anita LaSelva as the two Taelons in quiet idealogical conflict.  ') , has been classified as 1 and should be 0\n",
            "Sample (491, 'Now this is a movie I really dislike.  ') , has been classified as 1 and should be 0\n",
            "Sample (499, 'Director Neil LaBute uses brutal violence to seperate dreams from reality, and along with the touching drama, and hilarious comedy, you can never tell what is going to happen next.  ') , has been classified as 0 and should be 1\n",
            "Sample (503, 'There is, however, some pretty good acting (at least, for this type of film).  ') , has been classified as 0 and should be 1\n",
            "Sample (515, \"I didn't realize how wonderful the short really is until the last two scenes.  \") , has been classified as 0 and should be 1\n",
            "Sample (517, 'Hopefully, the director James Cox can turn the short into a feature length film with the same cast, or win us over with a whole new film.  ') , has been classified as 0 and should be 1\n",
            "Sample (519, 'Characters are one-dimensional, even the good guys and especially the bad guys.  ') , has been classified as 1 and should be 0\n",
            "Sample (521, 'Not much dialogue, not much music, the whole film was shot as elaborately and aesthetically like a sculpture.  ') , has been classified as 0 and should be 1\n",
            "Sample (526, \"Funny, clever, hip - just like Pray's previous film, Hype!  \") , has been classified as 0 and should be 1\n",
            "Sample (527, \"It was a long time that i didn't see a so charismatic actor on screen.  \") , has been classified as 0 and should be 1\n",
            "Sample (529, \"The movie is not completely perfect but 'Titta Di Girolamo' will stay with you for a long time after the vision of the movie.  \") , has been classified as 0 and should be 1\n",
            "Sample (531, \"I do not know if this was Emilio Estevez's directorial debut, but the pacing, the interplay and development of the characters as well as some clever camera work surrounding the character Estevez plays all suggest a natural eye.  \") , has been classified as 0 and should be 1\n",
            "Sample (536, 'The two main characters may be two of the most believable children I ever saw put on screen.  ') , has been classified as 0 and should be 1\n",
            "Sample (543, 'Go rent it.  ') , has been classified as 0 and should be 1\n",
            "Sample (544, 'However, after finally watching this film, I realized that not only had I had a closed mind to the brilliance it depicts, I also found myself watching it over and over again.  ') , has been classified as 0 and should be 1\n",
            "Sample (545, \"It's the one movie that never ceases to interest me, simply because it keeps me alert, as I try to attempt to decipher it's meanings.  \") , has been classified as 0 and should be 1\n",
            "Sample (548, 'Think of the film being like a dream.  ') , has been classified as 0 and should be 1\n",
            "Sample (556, 'But it picked up speed and got right to the point.  ') , has been classified as 0 and should be 1\n",
            "Sample (563, \"The film's dialogue is natural, real to life.  \") , has been classified as 0 and should be 1\n",
            "Sample (564, 'The writer, Gorman Bechard, undoubtedly did his homework because all references are industry and character-age appropriate.  ') , has been classified as 0 and should be 1\n",
            "Sample (570, 'Enough can not be said of the remarkable animation in this film.  ') , has been classified as 0 and should be 1\n",
            "Sample (578, 'Then I watched it again two Sundays ago (March 20th, 2005) and I began to really enjoy it and this time I taped the entire thing.  ') , has been classified as 0 and should be 1\n",
            "Sample (581, 'I keep watching it over and over.  ') , has been classified as 0 and should be 1\n",
            "Sample (582, \"It's a sad movie, but very good.  \") , has been classified as 0 and should be 1\n",
            "Sample (583, 'If you have not seen this movie, I definitely recommend it!  ') , has been classified as 0 and should be 1\n",
            "Sample (589, ':) Anyway, the plot flowed smoothly and the male-bonding scenes were a hoot.  ') , has been classified as 0 and should be 1\n",
            "Sample (591, 'Fans of the genre will be in heaven.  ') , has been classified as 0 and should be 1\n"
          ]
        }
      ],
      "source": [
        "for idx, prediction, label in zip(enumerate(test_df['Sentence']), pred_test_nb, y_test):\n",
        "    if prediction != label:\n",
        "        print(\"Sample\", idx, ', has been classified as', prediction, 'and should be', label) "
      ]
    },
    {
      "cell_type": "markdown",
      "metadata": {
        "id": "DekZ7mulNTmr"
      },
      "source": [
        "##Explanation\n",
        "Let's analyze following sentences which got wrongly predicted.\n",
        "1. **394** - 'Predictable, but not a bad watch.'  **[Pred-0;Actual-1]**\n",
        "2. **377** - 'The film has an ultra-cheap look to it.' **[Pred-1;Actual-0]**\n",
        "3. **211** - 'I believe that Pitch Black was done well.' **[Pred-0;Actual-1] **\n",
        "4.  **92** - 'But this movie really got to me.'  **[Pred-0;Actual-1]** \n",
        "5.  **12** - 'Not too screamy not to masculine but just right.'  **[Pred-0;Actual-1]**\n",
        "\n",
        "To explain which words contributed into prediction for sentence, we will use Lime library. This will show how our model behaving around the words in sentence, hence predicting the way it is.\n",
        "\n"
      ]
    },
    {
      "cell_type": "code",
      "source": [
        "#Initialize \n",
        "test_vectors = vectorizer.transform(test_df.Sentence)\n",
        "class_names=['Negative','Postive']\n",
        "explainer = LimeTextExplainer(class_names=class_names)"
      ],
      "metadata": {
        "id": "UwFma4HPRph5"
      },
      "execution_count": null,
      "outputs": []
    },
    {
      "cell_type": "code",
      "source": [
        "###  Sentence-1 --> 'Predictable, but not a bad watch.' [Pred-0;Actual-1]  ####\n",
        "\n",
        "idx=394\n",
        "\n",
        "#We are using top 6 features from document, which impacted the model prediction \n",
        "exp = explainer.explain_instance(test_df.Sentence[idx], pipe_nb.predict_proba, num_features=6)\n",
        "print('Document id: %d' % idx)\n",
        "print('Probability Distribution: [Negative Postive]:',pipe_nb.predict_proba([test_df.Sentence[idx]]))\n",
        "print('Probability(Positive) =', pipe_nb.predict_proba([test_df.Sentence[idx]])[0,1])\n",
        "print('True class: %s' % class_names[test_df.Polarity[idx]])\n",
        "print(exp.as_list())\n",
        "%matplotlib inline\n",
        "fig = exp.as_pyplot_figure()\n",
        "\n",
        "###\n",
        "#  *** Conclusion *** - Explanation generated below shows, model predicted this sentence as 'negative'. This is due to the weightage given to words like 'bad','not'.\n",
        "###"
      ],
      "metadata": {
        "colab": {
          "base_uri": "https://localhost:8080/",
          "height": 367
        },
        "id": "DR24uGaROK67",
        "outputId": "1ff8dd61-3783-4282-cc26-dc142643a2a1"
      },
      "execution_count": 247,
      "outputs": [
        {
          "output_type": "stream",
          "name": "stdout",
          "text": [
            "Document id: 394\n",
            "Probability Distribution: [Negative Postive]: [[0.92051611 0.07948389]]\n",
            "Probability(Positive) = 0.07948388983306906\n",
            "True class: Postive\n",
            "[('bad', -0.15210615785793577), ('not', -0.06759515242137619), ('watch', 0.03582295127497958), ('Predictable', -0.030396661871006894), ('but', -0.017256899155833966), ('a', -0.0032842816043386906)]\n"
          ]
        },
        {
          "output_type": "display_data",
          "data": {
            "text/plain": [
              "<Figure size 432x288 with 1 Axes>"
            ],
            "image/png": "[encoded data removed]"
          },
          "metadata": {
            "needs_background": "light"
          }
        }
      ]
    },
    {
      "cell_type": "code",
      "source": [
        "###  Sentence-2 --> 'The film has an ultra-cheap look to it.' [Pred-1;Actual-0]  ####\n",
        "\n",
        "idx=377\n",
        "\n",
        "#We are using top 6 features from document, which impacted the model prediction \n",
        "exp = explainer.explain_instance(test_df.Sentence[idx], pipe_nb.predict_proba, num_features=6)\n",
        "print('Document id: %d' % idx)\n",
        "print('Probability Distribution: [Negative Postive]:',pipe_nb.predict_proba([test_df.Sentence[idx]]))\n",
        "print('Probability(Positive) =', pipe_nb.predict_proba([test_df.Sentence[idx]])[0,1])\n",
        "print('True class: %s' % class_names[test_df.Polarity[idx]])\n",
        "print(exp.as_list())\n",
        "%matplotlib inline\n",
        "fig = exp.as_pyplot_figure()\n",
        "\n",
        "###\n",
        "#  *** Conclusion *** - Explanation generated below shows, model predicted this sentence as 'positive'. But its almost edge case. \n",
        "#                       Model considered words like 'has', 'an' as positive, which are stop words. We have not cleaned the test data, \n",
        "#                        and this is the reason for sentence to be classified as 'Positive'.\n",
        "###"
      ],
      "metadata": {
        "colab": {
          "base_uri": "https://localhost:8080/",
          "height": 367
        },
        "id": "kEbVn30qOPjs",
        "outputId": "19c4d3f6-9dd0-4310-f39d-db50ad65dc30"
      },
      "execution_count": 248,
      "outputs": [
        {
          "output_type": "stream",
          "name": "stdout",
          "text": [
            "Document id: 377\n",
            "Probability Distribution: [Negative Postive]: [[0.47393828 0.52606172]]\n",
            "Probability(Positive) = 0.5260617179521474\n",
            "True class: Negative\n",
            "[('cheap', -0.16644840814323833), ('has', 0.06975730098098311), ('look', 0.06704494364269598), ('an', 0.040050356018806875), ('film', 0.016107174890182378), ('to', -0.012734797425341376)]\n"
          ]
        },
        {
          "output_type": "display_data",
          "data": {
            "text/plain": [
              "<Figure size 432x288 with 1 Axes>"
            ],
            "image/png": "[encoded data removed]"
          },
          "metadata": {
            "needs_background": "light"
          }
        }
      ]
    },
    {
      "cell_type": "code",
      "source": [
        "###  Sentence-3 --> 'I believe that Pitch Black was done well.' [Pred-0;Actual-1]  ####\n",
        "\n",
        "idx=211\n",
        "\n",
        "#We are using top 6 features from document, which impacted the model prediction \n",
        "exp = explainer.explain_instance(test_df.Sentence[idx], pipe_nb.predict_proba, num_features=6)\n",
        "print('Document id: %d' % idx)\n",
        "print('Probability Distribution: [Negative Postive]:',pipe_nb.predict_proba([test_df.Sentence[idx]]))\n",
        "print('Probability(Positive) =', pipe_nb.predict_proba([test_df.Sentence[idx]])[0,1])\n",
        "print('True class: %s' % class_names[test_df.Polarity[idx]])\n",
        "print(exp.as_list())\n",
        "%matplotlib inline\n",
        "fig = exp.as_pyplot_figure()\n",
        "\n",
        "###\n",
        "#  *** Conclusion *** - Explanation generated below shows, model predicted this sentence as 'negaive'. But again its edge case. \n",
        "#                       Model considered word 'believe' as negative, which shows it learns it as something where it comes with negative feeling.\n",
        "#                       Again, stop words 'that', 'was' contributed negatively. If we remove those, it may help model predictions.\n",
        "###"
      ],
      "metadata": {
        "colab": {
          "base_uri": "https://localhost:8080/",
          "height": 367
        },
        "id": "aQip1EjRTCYq",
        "outputId": "fd00fd8f-af80-49d1-bc65-ba8e061ce60b"
      },
      "execution_count": 249,
      "outputs": [
        {
          "output_type": "stream",
          "name": "stdout",
          "text": [
            "Document id: 211\n",
            "Probability Distribution: [Negative Postive]: [[0.50860705 0.49139295]]\n",
            "Probability(Positive) = 0.49139294961103763\n",
            "True class: Postive\n",
            "[('believe', -0.12584985202674484), ('well', 0.10843209924570611), ('done', 0.06924484624150064), ('that', -0.03121805911657938), ('Black', -0.024418036899560305), ('was', -0.00977751035193135)]\n"
          ]
        },
        {
          "output_type": "display_data",
          "data": {
            "text/plain": [
              "<Figure size 432x288 with 1 Axes>"
            ],
            "image/png": "[encoded data removed]"
          },
          "metadata": {
            "needs_background": "light"
          }
        }
      ]
    },
    {
      "cell_type": "code",
      "source": [
        "###  Sentence-4 --> 'But this movie really got to me.' [Pred-0;Actual-1]  ####\n",
        "\n",
        "idx=92\n",
        "\n",
        "#We are using top 6 features from document, which impacted the model prediction \n",
        "exp = explainer.explain_instance(test_df.Sentence[idx], pipe_nb.predict_proba, num_features=6)\n",
        "print('Document id: %d' % idx)\n",
        "print('Probability Distribution: [Negative Postive]:',pipe_nb.predict_proba([test_df.Sentence[idx]]))\n",
        "print('Probability(Positive) =', pipe_nb.predict_proba([test_df.Sentence[idx]])[0,1])\n",
        "print('True class: %s' % class_names[test_df.Polarity[idx]])\n",
        "print(exp.as_list())\n",
        "%matplotlib inline\n",
        "fig = exp.as_pyplot_figure()\n",
        "\n",
        "###\n",
        "#  *** Conclusion *** - Explanation generated below shows, model predicted this sentence as 'negative'. \n",
        "#                       Again prediction for this sentence has been impacted by stop words like 'me', 'But', 'got'. \n",
        "#                       Interestingly, word 'movie' considered negative.\n",
        "###"
      ],
      "metadata": {
        "colab": {
          "base_uri": "https://localhost:8080/",
          "height": 367
        },
        "id": "FHAbCReFTDHt",
        "outputId": "7eab1011-5f27-4159-bdbd-f9de3947d991"
      },
      "execution_count": 250,
      "outputs": [
        {
          "output_type": "stream",
          "name": "stdout",
          "text": [
            "Document id: 92\n",
            "Probability Distribution: [Negative Postive]: [[0.69734343 0.30265657]]\n",
            "Probability(Positive) = 0.3026565695535625\n",
            "True class: Postive\n",
            "[('me', -0.09862044337482448), ('But', -0.05461025993561304), ('really', 0.042853856326517815), ('movie', -0.02419675184637965), ('this', 0.019259646674771532), ('got', -0.018178961731164796)]\n"
          ]
        },
        {
          "output_type": "display_data",
          "data": {
            "text/plain": [
              "<Figure size 432x288 with 1 Axes>"
            ],
            "image/png": "[encoded data removed]"
          },
          "metadata": {
            "needs_background": "light"
          }
        }
      ]
    },
    {
      "cell_type": "code",
      "source": [
        "###  Sentence-5 --> 'Not too screamy not to masculine but just right.' [Pred-0;Actual-1]  ####\n",
        "\n",
        "idx=12\n",
        "\n",
        "#We are using top 6 features from document, which impacted the model prediction \n",
        "exp = explainer.explain_instance(test_df.Sentence[idx], pipe_nb.predict_proba, num_features=6)\n",
        "print('Document id: %d' % idx)\n",
        "print('Probability Distribution: [Negative Postive]:',pipe_nb.predict_proba([test_df.Sentence[idx]]))\n",
        "print('Probability(Positive) =', pipe_nb.predict_proba([test_df.Sentence[idx]])[0,1])\n",
        "print('True class: %s' % class_names[test_df.Polarity[idx]])\n",
        "print(exp.as_list())\n",
        "%matplotlib inline\n",
        "fig = exp.as_pyplot_figure()\n",
        "\n",
        "###\n",
        "#  *** Conclusion *** - Explanation generated below shows, model predicted this sentence as 'negative'.  \n",
        "#                       Model considered words like 'not', 'too', 'but' as negative, which are stop words, and heavily impacted prediction. \n",
        "###"
      ],
      "metadata": {
        "colab": {
          "base_uri": "https://localhost:8080/",
          "height": 367
        },
        "id": "Sm2UWnOITDwl",
        "outputId": "796ba90d-d011-4560-b39e-2d26b37e6b39"
      },
      "execution_count": 251,
      "outputs": [
        {
          "output_type": "stream",
          "name": "stdout",
          "text": [
            "Document id: 12\n",
            "Probability Distribution: [Negative Postive]: [[0.80120347 0.19879653]]\n",
            "Probability(Positive) = 0.19879653442809891\n",
            "True class: Postive\n",
            "[('Not', -0.09563149257003534), ('not', -0.0938386725964851), ('right', 0.07418091585573386), ('too', -0.038547759109982836), ('but', -0.03642123310452276), ('just', 0.014925685170599216)]\n"
          ]
        },
        {
          "output_type": "display_data",
          "data": {
            "text/plain": [
              "<Figure size 432x288 with 1 Axes>"
            ],
            "image/png": "[encoded data removed]"
          },
          "metadata": {
            "needs_background": "light"
          }
        }
      ]
    },
    {
      "cell_type": "markdown",
      "metadata": {
        "id": "bE2GL8VMNKHj"
      },
      "source": [
        "# Question 2 (Optional): Sentiment Analysis via Deep ML\n",
        "\n",
        "This question is optional and worth up to 5 extra credit marks.\n",
        "\n",
        "Use deep learning (e.g., RNNs and variants, CNNs and variants, and/or transformers) to build a model on the same dataset and compare the results with the Shallow ML model.\n",
        "\n",
        "You may train your own deep ML model (using, e.g., the keras library) or use a pre-trained deep ML model (using, e.g., the transformers library)."
      ]
    },
    {
      "cell_type": "code",
      "execution_count": 195,
      "metadata": {
        "id": "LhM3_13LRdTI"
      },
      "outputs": [],
      "source": [
        "# Creating Embeddings using DistilBERT \n",
        "tokenizer = AutoTokenizer.from_pretrained('distilbert-base-uncased')"
      ]
    },
    {
      "cell_type": "code",
      "execution_count": 196,
      "metadata": {
        "colab": {
          "base_uri": "https://localhost:8080/"
        },
        "id": "Ltcz69A2vyu3",
        "outputId": "4174b337-f3e1-4743-84d9-bf27c15c2c26"
      },
      "outputs": [
        {
          "output_type": "stream",
          "name": "stdout",
          "text": [
            "The maximum amount of tokens in the dataset is 84\n"
          ]
        }
      ],
      "source": [
        "# Check longest token sequence in entire text\n",
        "def checkForMaxTokenSeqInData(text_list, tokenizer_i):\n",
        "  \n",
        "    max_val = 0\n",
        "    for sent in text_list:\n",
        "        try:\n",
        "            sent_tok_len = len(tokenizer_i.tokenize(sent))\n",
        "            max_val = sent_tok_len if (sent_tok_len > max_val) else max_val\n",
        "        except:\n",
        "            pass\n",
        "    \n",
        "    print(f\"The maximum amount of tokens in the dataset is {max_val}\")\n",
        "    return max_val\n",
        "\n",
        "MAX_VAL = checkForMaxTokenSeqInData(X_train.to_list()+X_val.to_list(),tokenizer)"
      ]
    },
    {
      "cell_type": "code",
      "execution_count": 197,
      "metadata": {
        "id": "gCOtl0_mv3Xm"
      },
      "outputs": [],
      "source": [
        "def encode_text(tokenizer_i, text, max_text_length):\n",
        "\n",
        "    # Encode the sentence\n",
        "    encodedText = tokenizer_i(text,\n",
        "                             max_length =max_text_length,\n",
        "                            truncation=True, \n",
        "                            add_special_tokens=True, \n",
        "                            padding='max_length')\n",
        "    return encodedText\n",
        "\n",
        "train_encoding = encode_text(tokenizer, X_train.to_list(), MAX_VAL)\n",
        "val_encoding = encode_text(tokenizer, X_val.to_list(), MAX_VAL)\n"
      ]
    },
    {
      "cell_type": "markdown",
      "metadata": {
        "id": "uWLTzGYhwhb5"
      },
      "source": [
        "###Build Model"
      ]
    },
    {
      "cell_type": "code",
      "execution_count": 198,
      "metadata": {
        "colab": {
          "base_uri": "https://localhost:8080/"
        },
        "id": "eLbhbOTlwEJY",
        "outputId": "0ac9d035-1f16-43e9-99a3-dc76bb4da309"
      },
      "outputs": [
        {
          "output_type": "stream",
          "name": "stderr",
          "text": [
            "Some layers from the model checkpoint at distilbert-base-uncased were not used when initializing TFDistilBertModel: ['vocab_projector', 'vocab_transform', 'vocab_layer_norm', 'activation_13']\n",
            "- This IS expected if you are initializing TFDistilBertModel from the checkpoint of a model trained on another task or with another architecture (e.g. initializing a BertForSequenceClassification model from a BertForPreTraining model).\n",
            "- This IS NOT expected if you are initializing TFDistilBertModel from the checkpoint of a model that you expect to be exactly identical (initializing a BertForSequenceClassification model from a BertForSequenceClassification model).\n",
            "All the layers of TFDistilBertModel were initialized from the model checkpoint at distilbert-base-uncased.\n",
            "If your task is similar to the task the model of the checkpoint was trained on, you can already use TFDistilBertModel for predictions without further training.\n"
          ]
        },
        {
          "output_type": "stream",
          "name": "stdout",
          "text": [
            "Model: \"model_2\"\n",
            "__________________________________________________________________________________________________\n",
            " Layer (type)                   Output Shape         Param #     Connected to                     \n",
            "==================================================================================================\n",
            " input_ids (InputLayer)         [(None, 84)]         0           []                               \n",
            "                                                                                                  \n",
            " attention_mask (InputLayer)    [(None, 84)]         0           []                               \n",
            "                                                                                                  \n",
            " tf_distil_bert_model_2 (TFDist  TFBaseModelOutput(l  66362880   ['input_ids[0][0]',              \n",
            " ilBertModel)                   ast_hidden_state=(N               'attention_mask[0][0]']         \n",
            "                                one, 84, 768),                                                    \n",
            "                                 hidden_states=None                                               \n",
            "                                , attentions=None)                                                \n",
            "                                                                                                  \n",
            " tf.__operators__.getitem_2 (Sl  (None, 768)         0           ['tf_distil_bert_model_2[0][0]'] \n",
            " icingOpLambda)                                                                                   \n",
            "                                                                                                  \n",
            " dropout_61 (Dropout)           (None, 768)          0           ['tf.__operators__.getitem_2[0][0\n",
            "                                                                 ]']                              \n",
            "                                                                                                  \n",
            " dense_2 (Dense)                (None, 128)          98432       ['dropout_61[0][0]']             \n",
            "                                                                                                  \n",
            " dropout_62 (Dropout)           (None, 128)          0           ['dense_2[0][0]']                \n",
            "                                                                                                  \n",
            " flatten_2 (Flatten)            (None, 128)          0           ['dropout_62[0][0]']             \n",
            "                                                                                                  \n",
            " output (Dense)                 (None, 1)            129         ['flatten_2[0][0]']              \n",
            "                                                                                                  \n",
            "==================================================================================================\n",
            "Total params: 66,461,441\n",
            "Trainable params: 98,561\n",
            "Non-trainable params: 66,362,880\n",
            "__________________________________________________________________________________________________\n"
          ]
        }
      ],
      "source": [
        "from transformers import DistilBertTokenizer, TFDistilBertForSequenceClassification\n",
        "def build_model(base_model, trainable=False, params={}):\n",
        "    inputs = Input(shape = (params['max_seq_length'],),name='input_ids', dtype='int32')\n",
        "    masks  = Input(shape = (params['max_seq_length'],),name='attention_mask', dtype='int32')\n",
        "\n",
        "    base_model.trainable = trainable\n",
        "\n",
        "    dbert_output = base_model(inputs, masks)[0]\n",
        "    cls_token = dbert_output[:, 0, :]\n",
        "    dropout_layer = Dropout(params['dropout_rate_1'])(cls_token)\n",
        "    dense_layer = Dense(params['dense_layer_1_units'],activation='relu')(dropout_layer)\n",
        "    dropout_layer = Dropout(params['dropout_rate_2'])(dense_layer)\n",
        "    flatten = Flatten()(dropout_layer)\n",
        "    probs = Dense(1, activation='sigmoid', name=\"output\")(flatten)\n",
        "\n",
        "    model = keras.Model(inputs=[inputs, masks], outputs=probs)\n",
        "    model.summary()\n",
        "    return model\n",
        "\n",
        "MODEL_NAME= 'distilbert-base-uncased'\n",
        "\n",
        "# Configure DistilBERT's initialization\n",
        "config = DistilBertConfig(output_hidden_states=False)\n",
        "                          \n",
        "# The bare, pre-trained DistilBERT transformer model outputting raw hidden-states \n",
        "# and without any specific head on top.\n",
        "dbert_model = TFDistilBertModel.from_pretrained('distilbert-base-uncased', config=config)\n",
        "params={\n",
        "        \"dense_layer_1_units\": 128,        \n",
        "        \"dropout_rate_1\": 0.2,\n",
        "\t      \"dense_layer_2_units\": 32,\n",
        "        \"dropout_rate_2\": 0.2,\n",
        "        \"regularizer_l2_rate\":0.01,\n",
        "        \"max_seq_length\":MAX_VAL\n",
        "        }\n",
        "\n",
        "model = build_model(dbert_model, trainable=False, params=params)"
      ]
    },
    {
      "cell_type": "code",
      "execution_count": 199,
      "metadata": {
        "id": "Nh7wo9vgwLSc"
      },
      "outputs": [],
      "source": [
        "def compile_model(model, lr):\n",
        "\n",
        "    optimizer = keras.optimizers.Adam(learning_rate=lr)\n",
        "    loss = keras.losses.binary_crossentropy\n",
        "    model.compile(optimizer=optimizer,\n",
        "              loss=loss,\n",
        "              metrics='accuracy')\n",
        "    return model\n",
        "\n",
        "\n",
        "model = compile_model(model, 0.002)"
      ]
    },
    {
      "cell_type": "code",
      "execution_count": 200,
      "metadata": {
        "colab": {
          "base_uri": "https://localhost:8080/"
        },
        "id": "dgc2eoalwNk-",
        "outputId": "af80c1f9-494f-4565-88af-02ddd95d505c"
      },
      "outputs": [
        {
          "output_type": "stream",
          "name": "stdout",
          "text": [
            "Epoch 1/10\n",
            "57/57 [==============================] - 22s 386ms/step - loss: 0.4911 - accuracy: 0.7528 - val_loss: 0.3254 - val_accuracy: 0.8617\n",
            "Epoch 2/10\n",
            "57/57 [==============================] - 15s 269ms/step - loss: 0.3425 - accuracy: 0.8522 - val_loss: 0.2706 - val_accuracy: 0.9017\n",
            "Epoch 3/10\n",
            "57/57 [==============================] - 15s 267ms/step - loss: 0.3123 - accuracy: 0.8722 - val_loss: 0.2564 - val_accuracy: 0.8983\n",
            "Epoch 4/10\n",
            "57/57 [==============================] - 15s 266ms/step - loss: 0.3071 - accuracy: 0.8733 - val_loss: 0.2595 - val_accuracy: 0.9017\n",
            "Epoch 5/10\n",
            "57/57 [==============================] - 15s 269ms/step - loss: 0.2909 - accuracy: 0.8767 - val_loss: 0.2520 - val_accuracy: 0.9000\n",
            "Epoch 6/10\n",
            "57/57 [==============================] - 16s 275ms/step - loss: 0.2747 - accuracy: 0.8889 - val_loss: 0.2904 - val_accuracy: 0.8833\n",
            "Epoch 7/10\n",
            "57/57 [==============================] - 15s 268ms/step - loss: 0.2800 - accuracy: 0.8817 - val_loss: 0.2493 - val_accuracy: 0.9083\n",
            "Epoch 8/10\n",
            "57/57 [==============================] - 15s 265ms/step - loss: 0.2732 - accuracy: 0.8906 - val_loss: 0.2441 - val_accuracy: 0.9067\n",
            "Epoch 9/10\n",
            "57/57 [==============================] - 16s 287ms/step - loss: 0.2825 - accuracy: 0.8833 - val_loss: 0.2688 - val_accuracy: 0.8983\n",
            "Epoch 10/10\n",
            "57/57 [==============================] - 15s 264ms/step - loss: 0.2949 - accuracy: 0.8789 - val_loss: 0.2379 - val_accuracy: 0.9117\n"
          ]
        }
      ],
      "source": [
        "def train_model(model, model_inputs_and_masks_train, model_inputs_and_masks_val,\n",
        "    y_train, y_val, batch_size, num_epochs):\n",
        "\n",
        "    dataset_train = tf.data.Dataset.from_tensor_slices((dict(model_inputs_and_masks_train),y_train))\n",
        "    dataset_val = tf.data.Dataset.from_tensor_slices((dict(model_inputs_and_masks_val),y_val))\n",
        "\n",
        "    history = model.fit(dataset_train.shuffle(len(dataset_train)).batch(batch_size), \n",
        "                    epochs=num_epochs, \n",
        "                    batch_size=batch_size,\n",
        "                    validation_data=dataset_val.shuffle(len(dataset_val)).batch(batch_size), \n",
        "                    verbose=1)\n",
        "    \n",
        "    return model, history, dataset_val\n",
        "\n",
        "tf.config.run_functions_eagerly(True) #use function decorator in TF 2.0, please enable run function eagerly by using below line after importing TensorFlow\n",
        "model, history, val_dataset = train_model(model, train_encoding, val_encoding, y_train, y_val, batch_size=32, num_epochs=10)"
      ]
    },
    {
      "cell_type": "markdown",
      "metadata": {
        "id": "bOUpymo_wXIo"
      },
      "source": [
        "### Model Evaluation"
      ]
    },
    {
      "cell_type": "code",
      "execution_count": 201,
      "metadata": {
        "colab": {
          "base_uri": "https://localhost:8080/"
        },
        "id": "0BMRrChy8Ywk",
        "outputId": "5231b8a3-f939-4383-eb58-7eeebab81021"
      },
      "outputs": [
        {
          "output_type": "execute_result",
          "data": {
            "text/plain": [
              "0      1\n",
              "1      1\n",
              "2      1\n",
              "3      1\n",
              "4      1\n",
              "      ..\n",
              "595    0\n",
              "596    0\n",
              "597    0\n",
              "598    0\n",
              "599    0\n",
              "Name: Polarity, Length: 600, dtype: int64"
            ]
          },
          "metadata": {},
          "execution_count": 201
        }
      ],
      "source": [
        "y_test"
      ]
    },
    {
      "cell_type": "code",
      "execution_count": 202,
      "metadata": {
        "id": "prMX6HhqwZPO"
      },
      "outputs": [],
      "source": [
        "# Test data - Tensor Conversion\n",
        "def predict_labels(model, dataset):\n",
        "  output = model.predict(dataset.batch(1)) \n",
        "  predicted_labels = (output>0.50)\n",
        "  return output, predicted_labels\n",
        "\n",
        "test_encoding = encode_text(tokenizer, test_df['Sentence_clean'].to_list(), MAX_VAL)\n",
        "dataset_test = tf.data.Dataset.from_tensor_slices((dict(test_encoding)))\n",
        "predicted_prob, predicted_labels = predict_labels(model, dataset_test)\n",
        "#print(\"predicted_prob:\",predicted_prob)\n",
        "#print(\"predicted_labels:\",predicted_labels)"
      ]
    },
    {
      "cell_type": "code",
      "execution_count": 203,
      "metadata": {
        "colab": {
          "base_uri": "https://localhost:8080/"
        },
        "id": "b1lYwFFY7lM2",
        "outputId": "304df470-cef8-40cc-cdaf-89641c611561"
      },
      "outputs": [
        {
          "output_type": "stream",
          "name": "stdout",
          "text": [
            "              precision    recall  f1-score   support\n",
            "\n",
            "           0       0.83      0.79      0.81       287\n",
            "           1       0.81      0.85      0.83       313\n",
            "\n",
            "    accuracy                           0.82       600\n",
            "   macro avg       0.82      0.82      0.82       600\n",
            "weighted avg       0.82      0.82      0.82       600\n",
            "\n",
            "auc_score_test_nn: 0.9014816711380258\n",
            "accuracy_nn 0.82\n"
          ]
        }
      ],
      "source": [
        "print(classification_report(y_test, predicted_labels))\n",
        "fpr, tpr, thresh = roc_curve(y_test, predicted_prob[:], pos_label=1)\n",
        "\n",
        "# roc curve for tpr = fpr \n",
        "random_probs = [0 for i in range(len(y_test))]\n",
        "p_fpr, p_tpr, _ = roc_curve(y_test, random_probs, pos_label=1)\n",
        "\n",
        "auc_score_nn = roc_auc_score(y_test, predicted_prob[:])\n",
        "\n",
        "print('auc_score_test_nn:',auc_score_nn)\n",
        "print('accuracy_nn %s' % accuracy_score(predicted_labels, y_test))"
      ]
    },
    {
      "cell_type": "markdown",
      "metadata": {
        "id": "HboWpFGPkyQM"
      },
      "source": [
        "##Deep ML - Conclusion\n",
        "With very basic transfer learning DistilBERT model, our model accuracy raised to 82%. So, its the best model so far."
      ]
    }
  ],
  "metadata": {
    "colab": {
      "collapsed_sections": [],
      "name": "MMAI 2022 891 Individual Assignment_Solution.ipynb",
      "provenance": [],
      "include_colab_link": true
    },
    "kernelspec": {
      "display_name": "Python 3",
      "name": "python3"
    },
    "accelerator": "GPU"
  },
  "nbformat": 4,
  "nbformat_minor": 0
}