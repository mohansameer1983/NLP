{
  "cells": [
    {
      "cell_type": "markdown",
      "metadata": {
        "id": "view-in-github",
        "colab_type": "text"
      },
      "source": [
        "<a href=\"https://colab.research.google.com/github/mohansameer1983/NLP/blob/main/MMAI_2022_891_Individual_Assignment_Solution.ipynb\" target=\"_parent\"><img src=\"https://colab.research.google.com/assets/colab-badge.svg\" alt=\"Open In Colab\"/></a>"
      ]
    },
    {
      "cell_type": "markdown",
      "metadata": {
        "id": "HKmorPdno_n_"
      },
      "source": [
        "# MMAI 891: Individual Assignment\n",
        "\n",
        "Version 1: Updated February 9, 2022\n",
        "\n",
        "<font color='red'>\\# TODO: fill in the below</font>\n",
        "\n",
        "- [Sameer, Mohan]\n",
        "- [20309780]\n",
        "- [Section 1]\n",
        "- [Greenlight]\n",
        "- [22-04-2022]"
      ]
    },
    {
      "cell_type": "markdown",
      "metadata": {
        "id": "emfFtv4aHBI1"
      },
      "source": [
        "# Assignment Instructions\n",
        "\n",
        "This assignment contains one (1) question with multiple parts and one (1) optional question for bonus marks. The questions and parts are wholly contained in this Google Colab Notebook. \n",
        "\n",
        "You are to make a copy of this Notebook and edit the copy to provide your answers/solutions. You are to complete the assignment entirely within Google Colab. Why?\n",
        "\n",
        "- It gives you practice using cloud-based interactive notebook environments (which is a popular workflow)\n",
        "- It is easier for you to manage the environment (e.g., installing packages, etc.)\n",
        "- Google Colab has nice, beefy machines, so you don't have to worry about running out of memory on your local computer.\n",
        "- It will be easier for the TA to help you debug your code if you need help\n",
        "- It will be easier for the TA to mark/run your code\n",
        "\n",
        "## Questions\n",
        "\n",
        "Each question has multiple tasks. There are two possible types of tasks: tasks that require you to write code and tasks that require you to write text responses. A grading rubric is provided on D2L for each question.\n",
        "\n",
        "For tasks that require **code**:\n",
        "- Use Python to complete the task.\n",
        "- You may use standard Python libraries, including scikit-learn, pandas, and numpy.\n",
        "- Tips:\n",
        "  - Submit code that runs without errors.\n",
        "  - Submit code that is reproducible. E.g., set random number seeds as appropriate. You should be able to run your code again and again and again, from the top of the file to the bottom of the file, and get the exact same results each time. I should be able to run your code, from scratch, again and again, and get the exact same results that you get.\n",
        "  - Submit code that is organized. Make your code readable. Provide comments to describe what the code is doing and why. Don’t leave “old” code lying around. Overall, if your code is clear and easy to read, then we will be happy. When we are happy, we give better marks.\n",
        "\n",
        "For tasks that require **text responses**:\n",
        "- Type your response in Notebook cell indicated.\n",
        "- Use English. Use proper grammar, spelling, and punctuation. Be professional and clear. Be complete, but not overly verbose.\n",
        "- Feel free to use [Markdown syntax](https://www.markdownguide.org/basic-syntax/) to format your answer (i.e., add bold, italics, lists, tables).\n",
        "- You may refer to your code in your answer. Please do so very clearly. E.g., “As can be seen in on line X above …“\n",
        "\n",
        "\n",
        "## What to Submit to the Course Portal\n",
        "\n",
        "- You are to export your completed Notebook as a PDF file by clicking File->Print->Save as PDF.\n",
        "- Please do not submit the Notebook (.ipynb) file to the course portal. \n",
        "- Please submit the PDF export of the Notebook. \n",
        "   - Please name the PDF file 21_891_FirstnameLastName.pdf\n",
        "      - E.g., *21_891_StephenThomas.pdf*\n",
        "   - Please make sure you have run all the cells so we can see the output!\n",
        "   - Best practice: Before exporting to PDF, click Runtime->Restart and run all.\n",
        "\n"
      ]
    },
    {
      "cell_type": "markdown",
      "metadata": {
        "id": "oZFTCX4DqmRO"
      },
      "source": [
        "# Preliminaries: Inspect and Set up environment"
      ]
    },
    {
      "cell_type": "code",
      "execution_count": 32,
      "metadata": {
        "colab": {
          "base_uri": "https://localhost:8080/"
        },
        "id": "-YXvDdiTYhdn",
        "outputId": "a6a81ee1-3efa-4239-f0df-5f46f0762d9f"
      },
      "outputs": [
        {
          "output_type": "stream",
          "name": "stdout",
          "text": [
            "Requirement already satisfied: unidecode in /usr/local/lib/python3.7/dist-packages (1.3.4)\n"
          ]
        }
      ],
      "source": [
        "!pip install -q transformers tfds-nightly\n",
        "!pip install unidecode"
      ]
    },
    {
      "cell_type": "code",
      "execution_count": 33,
      "metadata": {
        "colab": {
          "base_uri": "https://localhost:8080/"
        },
        "id": "xj34Jz-Do_oK",
        "outputId": "13045541-385e-4432-acc7-b093ecd85eef"
      },
      "outputs": [
        {
          "output_type": "stream",
          "name": "stdout",
          "text": [
            "[nltk_data] Downloading package stopwords to /root/nltk_data...\n",
            "[nltk_data]   Package stopwords is already up-to-date!\n",
            "[nltk_data] Downloading package wordnet to /root/nltk_data...\n",
            "[nltk_data]   Package wordnet is already up-to-date!\n"
          ]
        }
      ],
      "source": [
        "import datetime\n",
        "import pandas as pd\n",
        "import numpy as np\n",
        "import unidecode\n",
        "import nltk\n",
        "from nltk.corpus import stopwords  \n",
        "nltk.download('stopwords')\n",
        "nltk.download('wordnet')\n",
        "from bs4 import BeautifulSoup\n",
        "from nltk.stem import WordNetLemmatizer\n",
        "from sklearn.model_selection import train_test_split\n",
        "from sklearn.feature_extraction.text import CountVectorizer\n",
        "from sklearn.feature_extraction.text import TfidfVectorizer\n",
        "from sklearn.tree import DecisionTreeClassifier\n",
        "from sklearn.pipeline import Pipeline\n",
        "from sklearn.metrics import confusion_matrix, classification_report,accuracy_score\n",
        "from sklearn.ensemble import RandomForestClassifier\n",
        "import re\n",
        "from sklearn.metrics import roc_curve\n",
        "from sklearn.metrics import roc_auc_score\n",
        "\n",
        "# matplotlib\n",
        "import matplotlib.pyplot as plt\n",
        "plt.style.use('seaborn')\n",
        "\n",
        "try: # this is only working on the 2nd try in colab :)\n",
        "  from transformers import DistilBertTokenizer, TFDistilBertModel, DistilBertConfig, AutoTokenizer, AutoModel, AutoConfig\n",
        "except Exception as err: # so we catch the error and import it again\n",
        "  from transformers import DistilBertTokenizer, TFDistilBertModel, DistilBertConfig, AutoTokenizer, AutoModel, AutoConfig\n",
        "\n",
        "import tensorflow as tf\n",
        "import numpy as np\n",
        "import tensorflow.keras as keras\n",
        "from tensorflow.keras.layers import Dense, Input, Dropout, Flatten\n"
      ]
    },
    {
      "cell_type": "code",
      "execution_count": 34,
      "metadata": {
        "colab": {
          "base_uri": "https://localhost:8080/"
        },
        "id": "mqQ_XOKyXTS6",
        "outputId": "2fb056c6-b50b-4dbe-809f-5472fff5e5a9"
      },
      "outputs": [
        {
          "output_type": "stream",
          "name": "stdout",
          "text": [
            "2022-04-26 05:19:08.613143\n"
          ]
        }
      ],
      "source": [
        "print(datetime.datetime.now())"
      ]
    },
    {
      "cell_type": "code",
      "execution_count": 35,
      "metadata": {
        "colab": {
          "base_uri": "https://localhost:8080/"
        },
        "id": "LfOMt1lErLhZ",
        "outputId": "5ecf6d6a-3648-401b-e5ab-51d8ea3ddbd9"
      },
      "outputs": [
        {
          "output_type": "stream",
          "name": "stdout",
          "text": [
            "/usr/local/bin/python\n"
          ]
        }
      ],
      "source": [
        "!which python"
      ]
    },
    {
      "cell_type": "code",
      "execution_count": 36,
      "metadata": {
        "colab": {
          "base_uri": "https://localhost:8080/"
        },
        "id": "aub2w1-arM5K",
        "outputId": "b8a44b6a-e614-488a-e146-4a888d260a06"
      },
      "outputs": [
        {
          "output_type": "stream",
          "name": "stdout",
          "text": [
            "Python 3.7.13\n"
          ]
        }
      ],
      "source": [
        "!python --version"
      ]
    },
    {
      "cell_type": "code",
      "execution_count": 37,
      "metadata": {
        "colab": {
          "base_uri": "https://localhost:8080/"
        },
        "id": "E9Y_n_8UrO9i",
        "outputId": "7c596f13-e14e-4902-df86-086409bca803"
      },
      "outputs": [
        {
          "output_type": "stream",
          "name": "stdout",
          "text": [
            "/env/python\n"
          ]
        }
      ],
      "source": [
        "!echo $PYTHONPATH"
      ]
    },
    {
      "cell_type": "markdown",
      "metadata": {
        "id": "qj1NSQelo_oN"
      },
      "source": [
        "# Question 1: Sentiment Analysis via Shallow ML\n",
        "\n",
        "\n",
        "**Marking**\n",
        "\n",
        "The coding parts (i.e., 1.a, 1.b, 1.c4) will be marked based on:\n",
        "\n",
        "- *Correctness*. Code clearly and fully performs the task specified.\n",
        "- *Reproducibility*. Code is fully reproducible. I.e., you (and I) are able to run this Notebook again and again, from top to bottom, and get the same results each time.\n",
        "- *Style*. Code is organized. All parts commented with clear reasoning and rationale. No old code laying around. Code easy to follow.\n",
        "\n",
        "\n",
        "Parts 2 and 3 will be marked on:\n",
        "\n",
        "- *Quality*. Response is well-justified and convincing. Responses uses facts and data where possible.\n",
        "- *Style*. Response uses proper grammar, spelling, and punctuation. Response is clear and professional. Response is complete, but not overly-verbose. Response follows length guidelines.\n"
      ]
    },
    {
      "cell_type": "code",
      "execution_count": 38,
      "metadata": {
        "colab": {
          "base_uri": "https://localhost:8080/"
        },
        "id": "60UNWiX8YmLi",
        "outputId": "4128ef4f-170a-45e0-82da-bd1fdf5c0803"
      },
      "outputs": [
        {
          "output_type": "stream",
          "name": "stdout",
          "text": [
            "<class 'pandas.core.frame.DataFrame'>\n",
            "RangeIndex: 2400 entries, 0 to 2399\n",
            "Data columns (total 2 columns):\n",
            " #   Column    Non-Null Count  Dtype \n",
            "---  ------    --------------  ----- \n",
            " 0   Sentence  2400 non-null   object\n",
            " 1   Polarity  2400 non-null   int64 \n",
            "dtypes: int64(1), object(1)\n",
            "memory usage: 37.6+ KB\n"
          ]
        }
      ],
      "source": [
        "# DO NOT MODIFY THIS CELL\n",
        "\n",
        "# First, we'll read the provided labeled training data\n",
        "df = pd.read_csv(\"https://drive.google.com/uc?export=download&id=1b8MAiN-xBdk6scM-DnufkuijDZivZJqM\")\n",
        "df.info()"
      ]
    },
    {
      "cell_type": "code",
      "execution_count": 39,
      "metadata": {
        "colab": {
          "base_uri": "https://localhost:8080/",
          "height": 206
        },
        "id": "pxNvVO7FBnVt",
        "outputId": "2a4e10d0-1a87-4503-e63d-6bf733e2c930"
      },
      "outputs": [
        {
          "output_type": "execute_result",
          "data": {
            "text/plain": [
              "                                            Sentence  Polarity\n",
              "0                           Wow... Loved this place.         1\n",
              "1                                 Crust is not good.         0\n",
              "2          Not tasty and the texture was just nasty.         0\n",
              "3  Stopped by during the late May bank holiday of...         1\n",
              "4  The selection on the menu was great and so wer...         1"
            ],
            "text/html": [
              "\n",
              "  <div id=\"df-ca54d25a-e8b3-4ad7-9e78-e52d02e4483d\">\n",
              "    <div class=\"colab-df-container\">\n",
              "      <div>\n",
              "<style scoped>\n",
              "    .dataframe tbody tr th:only-of-type {\n",
              "        vertical-align: middle;\n",
              "    }\n",
              "\n",
              "    .dataframe tbody tr th {\n",
              "        vertical-align: top;\n",
              "    }\n",
              "\n",
              "    .dataframe thead th {\n",
              "        text-align: right;\n",
              "    }\n",
              "</style>\n",
              "<table border=\"1\" class=\"dataframe\">\n",
              "  <thead>\n",
              "    <tr style=\"text-align: right;\">\n",
              "      <th></th>\n",
              "      <th>Sentence</th>\n",
              "      <th>Polarity</th>\n",
              "    </tr>\n",
              "  </thead>\n",
              "  <tbody>\n",
              "    <tr>\n",
              "      <th>0</th>\n",
              "      <td>Wow... Loved this place.</td>\n",
              "      <td>1</td>\n",
              "    </tr>\n",
              "    <tr>\n",
              "      <th>1</th>\n",
              "      <td>Crust is not good.</td>\n",
              "      <td>0</td>\n",
              "    </tr>\n",
              "    <tr>\n",
              "      <th>2</th>\n",
              "      <td>Not tasty and the texture was just nasty.</td>\n",
              "      <td>0</td>\n",
              "    </tr>\n",
              "    <tr>\n",
              "      <th>3</th>\n",
              "      <td>Stopped by during the late May bank holiday of...</td>\n",
              "      <td>1</td>\n",
              "    </tr>\n",
              "    <tr>\n",
              "      <th>4</th>\n",
              "      <td>The selection on the menu was great and so wer...</td>\n",
              "      <td>1</td>\n",
              "    </tr>\n",
              "  </tbody>\n",
              "</table>\n",
              "</div>\n",
              "      <button class=\"colab-df-convert\" onclick=\"convertToInteractive('df-ca54d25a-e8b3-4ad7-9e78-e52d02e4483d')\"\n",
              "              title=\"Convert this dataframe to an interactive table.\"\n",
              "              style=\"display:none;\">\n",
              "        \n",
              "  <svg xmlns=\"http://www.w3.org/2000/svg\" height=\"24px\"viewBox=\"0 0 24 24\"\n",
              "       width=\"24px\">\n",
              "    <path d=\"M0 0h24v24H0V0z\" fill=\"none\"/>\n",
              "    <path d=\"M18.56 5.44l.94 2.06.94-2.06 2.06-.94-2.06-.94-.94-2.06-.94 2.06-2.06.94zm-11 1L8.5 8.5l.94-2.06 2.06-.94-2.06-.94L8.5 2.5l-.94 2.06-2.06.94zm10 10l.94 2.06.94-2.06 2.06-.94-2.06-.94-.94-2.06-.94 2.06-2.06.94z\"/><path d=\"M17.41 7.96l-1.37-1.37c-.4-.4-.92-.59-1.43-.59-.52 0-1.04.2-1.43.59L10.3 9.45l-7.72 7.72c-.78.78-.78 2.05 0 2.83L4 21.41c.39.39.9.59 1.41.59.51 0 1.02-.2 1.41-.59l7.78-7.78 2.81-2.81c.8-.78.8-2.07 0-2.86zM5.41 20L4 18.59l7.72-7.72 1.47 1.35L5.41 20z\"/>\n",
              "  </svg>\n",
              "      </button>\n",
              "      \n",
              "  <style>\n",
              "    .colab-df-container {\n",
              "      display:flex;\n",
              "      flex-wrap:wrap;\n",
              "      gap: 12px;\n",
              "    }\n",
              "\n",
              "    .colab-df-convert {\n",
              "      background-color: #E8F0FE;\n",
              "      border: none;\n",
              "      border-radius: 50%;\n",
              "      cursor: pointer;\n",
              "      display: none;\n",
              "      fill: #1967D2;\n",
              "      height: 32px;\n",
              "      padding: 0 0 0 0;\n",
              "      width: 32px;\n",
              "    }\n",
              "\n",
              "    .colab-df-convert:hover {\n",
              "      background-color: #E2EBFA;\n",
              "      box-shadow: 0px 1px 2px rgba(60, 64, 67, 0.3), 0px 1px 3px 1px rgba(60, 64, 67, 0.15);\n",
              "      fill: #174EA6;\n",
              "    }\n",
              "\n",
              "    [theme=dark] .colab-df-convert {\n",
              "      background-color: #3B4455;\n",
              "      fill: #D2E3FC;\n",
              "    }\n",
              "\n",
              "    [theme=dark] .colab-df-convert:hover {\n",
              "      background-color: #434B5C;\n",
              "      box-shadow: 0px 1px 3px 1px rgba(0, 0, 0, 0.15);\n",
              "      filter: drop-shadow(0px 1px 2px rgba(0, 0, 0, 0.3));\n",
              "      fill: #FFFFFF;\n",
              "    }\n",
              "  </style>\n",
              "\n",
              "      <script>\n",
              "        const buttonEl =\n",
              "          document.querySelector('#df-ca54d25a-e8b3-4ad7-9e78-e52d02e4483d button.colab-df-convert');\n",
              "        buttonEl.style.display =\n",
              "          google.colab.kernel.accessAllowed ? 'block' : 'none';\n",
              "\n",
              "        async function convertToInteractive(key) {\n",
              "          const element = document.querySelector('#df-ca54d25a-e8b3-4ad7-9e78-e52d02e4483d');\n",
              "          const dataTable =\n",
              "            await google.colab.kernel.invokeFunction('convertToInteractive',\n",
              "                                                     [key], {});\n",
              "          if (!dataTable) return;\n",
              "\n",
              "          const docLinkHtml = 'Like what you see? Visit the ' +\n",
              "            '<a target=\"_blank\" href=https://colab.research.google.com/notebooks/data_table.ipynb>data table notebook</a>'\n",
              "            + ' to learn more about interactive tables.';\n",
              "          element.innerHTML = '';\n",
              "          dataTable['output_type'] = 'display_data';\n",
              "          await google.colab.output.renderOutput(dataTable, element);\n",
              "          const docLink = document.createElement('div');\n",
              "          docLink.innerHTML = docLinkHtml;\n",
              "          element.appendChild(docLink);\n",
              "        }\n",
              "      </script>\n",
              "    </div>\n",
              "  </div>\n",
              "  "
            ]
          },
          "metadata": {},
          "execution_count": 39
        }
      ],
      "source": [
        "df.head()"
      ]
    },
    {
      "cell_type": "code",
      "execution_count": 40,
      "metadata": {
        "id": "ksKqf_fV6pIO"
      },
      "outputs": [],
      "source": [
        "# DO NOT MODIFY THIS CELL\n",
        "\n",
        "# Next, we'll split it into training and test\n",
        "from sklearn.model_selection import train_test_split\n",
        "\n",
        "X = df['Sentence']\n",
        "y = df['Polarity']\n",
        "\n",
        "# So that we can evaluate how well our model is performing, we split our training data\n",
        "# into training and validation.\n",
        "\n",
        "X_train, X_val, y_train, y_val = train_test_split(X, y, random_state=42)"
      ]
    },
    {
      "cell_type": "markdown",
      "metadata": {
        "id": "R04NzckZKbG2"
      },
      "source": [
        "## Part 1.a: Preprocessing and FE Pipeline\n",
        "\n",
        "Clean and preprocess the data (i.e., `X_train`) as you see necessary. Extract features from the text (i.e., vectorization using BOW and/or Bag of N-Grams and/or topics and/or lexical features). \n"
      ]
    },
    {
      "cell_type": "code",
      "execution_count": 78,
      "metadata": {
        "colab": {
          "base_uri": "https://localhost:8080/"
        },
        "id": "Qeavkicwo_oN",
        "outputId": "eeaeb4dc-36d3-4b9e-f551-0468cd5dadb4"
      },
      "outputs": [
        {
          "output_type": "stream",
          "name": "stdout",
          "text": [
            "CPU times: user 512 ms, sys: 9.85 ms, total: 522 ms\n",
            "Wall time: 567 ms\n",
            "CPU times: user 177 ms, sys: 890 µs, total: 178 ms\n",
            "Wall time: 180 ms\n"
          ]
        }
      ],
      "source": [
        "stop_words = stopwords.words('english') \n",
        "lemmer = WordNetLemmatizer()\n",
        "\n",
        "def preprocess(x):\n",
        "    # Remove HTML tags\n",
        "    x = BeautifulSoup(x, \"lxml\").get_text()\n",
        "\n",
        "    # Lower case\n",
        "    x = x.lower()\n",
        "    \n",
        "    # Remove punctuation\n",
        "    x = re.sub(r'[^\\w\\s]', '', x)\n",
        "    \n",
        "    # Remove non-unicode\n",
        "    x = unidecode.unidecode(x)\n",
        "    \n",
        "    # Remove numbers\n",
        "    x = re.sub(r'\\d+', '', x)\n",
        "    \n",
        "    # Remove stopwords and lemmatize\n",
        "    #x = [lemmer.lemmatize(w) for w in x.split() if w not in stop_words]\n",
        "    return ' '.join(x) \n",
        "\n",
        "%time X_train_Clean = X_train.apply(preprocess)\n",
        "%time X_val_Clean = X_val.apply(preprocess)"
      ]
    },
    {
      "cell_type": "code",
      "execution_count": 147,
      "metadata": {
        "id": "4gGwwioMmqaD"
      },
      "outputs": [],
      "source": [
        "vectorizer = TfidfVectorizer()\n",
        "#vectorizer = TfidfVectorizer(max_features = None, ngram_range=[1,2], min_df = .1, max_df = 0.9)\n"
      ]
    },
    {
      "cell_type": "markdown",
      "metadata": {
        "id": "m7FIkMnao_oO"
      },
      "source": [
        "## Part 1.b: Model Training/Tuning/Cross Validation\n",
        "\n",
        "Use your favorite shallow ML algorithm (such as decision trees, KNN, random forest, boosting variants) to train a classification model.  Don’t forget everything we’ve learned in the machine learning course: hyperparameter tuning, cross-validation, handling imbalanced data, etc. Make reasonable decisions and try to create the best-performing model that you can.\n"
      ]
    },
    {
      "cell_type": "code",
      "execution_count": 148,
      "metadata": {
        "id": "cgek8ghwo_oP"
      },
      "outputs": [],
      "source": [
        "pipe = Pipeline([('vec', vectorizer),  ('clf', RandomForestClassifier(random_state=223))])\n",
        "\n",
        "pipe.fit(X_train, y_train)\n",
        "\n",
        "pred_val = pipe.predict(X_val)"
      ]
    },
    {
      "cell_type": "markdown",
      "metadata": {
        "id": "RjUgRW1N6ppS"
      },
      "source": [
        "## Part 1.c: Model Assessment \n",
        "\n",
        "Use your model to predict the sentiment of the testing data. Measure the performance (e.g., accuracy, AUC, F1-score) of your model. "
      ]
    },
    {
      "cell_type": "code",
      "execution_count": 44,
      "metadata": {
        "colab": {
          "base_uri": "https://localhost:8080/"
        },
        "id": "QYlrWng9MqmL",
        "outputId": "abb34865-f814-4cc9-8aad-ba2b80db48d6"
      },
      "outputs": [
        {
          "output_type": "stream",
          "name": "stdout",
          "text": [
            "<class 'pandas.core.frame.DataFrame'>\n",
            "RangeIndex: 600 entries, 0 to 599\n",
            "Data columns (total 2 columns):\n",
            " #   Column    Non-Null Count  Dtype \n",
            "---  ------    --------------  ----- \n",
            " 0   Sentence  600 non-null    object\n",
            " 1   Polarity  600 non-null    int64 \n",
            "dtypes: int64(1), object(1)\n",
            "memory usage: 9.5+ KB\n"
          ]
        }
      ],
      "source": [
        "# DO NOT MODIFY THIS CELL\n",
        "\n",
        "test_df = pd.read_csv(\"https://drive.google.com/uc?export=download&id=1taoTluPBUMt9JkKAnlqDTrU49DJFpJGW\")\n",
        "test_df.info()"
      ]
    },
    {
      "cell_type": "code",
      "execution_count": 45,
      "metadata": {
        "colab": {
          "base_uri": "https://localhost:8080/"
        },
        "id": "1zDX1dg4nPEz",
        "outputId": "31940dbd-bb23-4cdf-87a5-867135d470a1"
      },
      "outputs": [
        {
          "output_type": "stream",
          "name": "stdout",
          "text": [
            "CPU times: user 282 ms, sys: 5.71 ms, total: 288 ms\n",
            "Wall time: 403 ms\n"
          ]
        }
      ],
      "source": [
        "%time test_df['Sentence_clean'] = test_df['Sentence'].apply(preprocess)\n",
        "y_test = test_df['Polarity']"
      ]
    },
    {
      "cell_type": "code",
      "execution_count": 149,
      "metadata": {
        "id": "yMm6r-wSOUY1"
      },
      "outputs": [],
      "source": [
        "pred_test = pipe.predict(test_df['Sentence_clean'])\n",
        "\n",
        "pred_test_prob = pipe.predict_proba(test_df['Sentence_clean'])\n"
      ]
    },
    {
      "cell_type": "code",
      "execution_count": 150,
      "metadata": {
        "colab": {
          "base_uri": "https://localhost:8080/"
        },
        "id": "F6IOygjXnk8J",
        "outputId": "c6973450-8c19-4389-b233-c007d6565e64"
      },
      "outputs": [
        {
          "output_type": "stream",
          "name": "stdout",
          "text": [
            "              precision    recall  f1-score   support\n",
            "\n",
            "           0       0.61      0.87      0.72       287\n",
            "           1       0.80      0.50      0.61       313\n",
            "\n",
            "    accuracy                           0.67       600\n",
            "   macro avg       0.71      0.68      0.67       600\n",
            "weighted avg       0.71      0.67      0.66       600\n",
            "\n",
            "auc_score_test: 0.789710678941568\n",
            "accuracy 0.6733333333333333\n"
          ]
        }
      ],
      "source": [
        "print(classification_report(y_test, pred_test))\n",
        "fpr, tpr, thresh = roc_curve(y_test, pred_test_prob[:,1], pos_label=1)\n",
        "\n",
        "# roc curve for tpr = fpr \n",
        "random_probs = [0 for i in range(len(y_test))]\n",
        "p_fpr, p_tpr, _ = roc_curve(y_test, random_probs, pos_label=1)\n",
        "\n",
        "auc_score = roc_auc_score(y_test, pred_test_prob[:,1])\n",
        "\n",
        "print('auc_score_test:',auc_score)\n",
        "print('accuracy %s' % accuracy_score(pred_test, y_test))"
      ]
    },
    {
      "cell_type": "code",
      "execution_count": 48,
      "metadata": {
        "colab": {
          "base_uri": "https://localhost:8080/",
          "height": 376
        },
        "id": "2o7SZ3qopD3A",
        "outputId": "b57b734f-5ebc-4b84-979d-520c7d045d88"
      },
      "outputs": [
        {
          "output_type": "display_data",
          "data": {
            "text/plain": [
              "<Figure size 576x396 with 1 Axes>"
            ],
            "image/png": "[encoded data removed]"
          },
          "metadata": {}
        }
      ],
      "source": [
        "# plot roc curves\n",
        "plt.plot(fpr, tpr, linestyle='--',color='orange', label='Random Forest')\n",
        "plt.plot(p_fpr, p_tpr, linestyle='--', color='blue')\n",
        "# title\n",
        "plt.title('ROC curve')\n",
        "# x label\n",
        "plt.xlabel('False Positive Rate')\n",
        "# y label\n",
        "plt.ylabel('True Positive rate')\n",
        "\n",
        "plt.legend(loc='best')\n",
        "plt.savefig('ROC',dpi=300)\n",
        "plt.show();"
      ]
    },
    {
      "cell_type": "markdown",
      "metadata": {
        "id": "6wUBcyrdM3__"
      },
      "source": [
        "## Part 2: Given the performance of your model, are you satisfied with the results? Explain.\n",
        "\n",
        "Keep your response to 1000 characters or less."
      ]
    },
    {
      "cell_type": "markdown",
      "metadata": {
        "id": "4oCr-mTfNG-H"
      },
      "source": [
        "TODO: Insert answer here."
      ]
    },
    {
      "cell_type": "markdown",
      "metadata": {
        "id": "Sz8dTvnJNKLL"
      },
      "source": [
        "## Part 3: Show five test instances in which your model was incorrect. Dive deep and find out why your model was wrong.\n",
        "\n",
        "Keep your response to 1000 characters or less."
      ]
    },
    {
      "cell_type": "code",
      "execution_count": 49,
      "metadata": {
        "colab": {
          "base_uri": "https://localhost:8080/"
        },
        "id": "eyEMIxPkpryA",
        "outputId": "a10ba66d-95fa-43a7-80fa-56046b50f606"
      },
      "outputs": [
        {
          "output_type": "stream",
          "name": "stdout",
          "text": [
            "Sample (3, 'feelgood film thats felt came cinema') , has been classified as 0 and should be 1\n",
            "Sample (4, 'northern humour positive community represents') , has been classified as 0 and should be 1\n",
            "Sample (6, 'liked') , has been classified as 0 and should be 1\n",
            "Sample (10, 'world better garbage theatre today') , has been classified as 0 and should be 1\n",
            "Sample (12, 'screamy masculine right') , has been classified as 0 and should be 1\n",
            "Sample (13, 'camera really like movie') , has been classified as 0 and should be 1\n",
            "Sample (14, 'would casted role ready script') , has been classified as 0 and should be 1\n",
            "Sample (36, 'soundtrack wasnt terrible either') , has been classified as 0 and should be 1\n",
            "Sample (38, 'still set got big oyvey scale') , has been classified as 0 and should be 1\n",
            "Sample (43, 'last minute movie also bad well') , has been classified as 0 and should be 1\n",
            "Sample (46, 'like armand assante cable company summary sounded interesting watched twice already probably') , has been classified as 0 and should be 1\n",
            "Sample (48, 'score mostly plot') , has been classified as 0 and should be 1\n",
            "Sample (49, 'wont say dont like spoiler dont want one believe film worth time') , has been classified as 0 and should be 1\n",
            "Sample (52, 'plot doesnt hang together acting absolutely appalling') , has been classified as 1 and should be 0\n",
            "Sample (53, 'even good camp value') , has been classified as 1 and should be 0\n",
            "Sample (67, 'deeply impressed character played') , has been classified as 0 and should be 1\n",
            "Sample (77, 'directing sloppy best') , has been classified as 1 and should be 0\n",
            "Sample (80, 'acting whole cast could put scale balanced perfectly overacting underacting') , has been classified as 1 and should be 0\n",
            "Sample (81, 'finally get ending wouldve great handled competent people jerry falwell') , has been classified as 1 and should be 0\n",
            "Sample (86, 'overall rate movie scale') , has been classified as 0 and should be 1\n",
            "Sample (87, 'lifetime air enough anyone know store sell let know musthave') , has been classified as 0 and should be 1\n",
            "Sample (90, 'totally different load understatement black comedy film get see remember') , has been classified as 0 and should be 1\n",
            "Sample (91, 'movie creates universe fascinating every way') , has been classified as 0 and should be 1\n",
            "Sample (92, 'movie really got') , has been classified as 0 and should be 1\n",
            "Sample (93, 'see') , has been classified as 0 and should be 1\n",
            "Sample (94, 'really hope team behind movie make movie continue kinda weird style') , has been classified as 0 and should be 1\n",
            "Sample (98, 'initially local site film filmed buffalo intrigued') , has been classified as 0 and should be 1\n",
            "Sample (99, 'later found lost power film') , has been classified as 0 and should be 1\n",
            "Sample (100, 'entire audience applauded conclusion film') , has been classified as 0 and should be 1\n",
            "Sample (101, 'left theater lilt step joy heart hope human race') , has been classified as 0 and should be 1\n",
            "Sample (124, 'full unconvincing cardboard character blandly written edward chodorov also produced surprisingly directed jean negulesco one would expect great deal') , has been classified as 1 and should be 0\n",
            "Sample (132, 'steve martin delivers really funny performance middleaged upper class uptight white guy') , has been classified as 0 and should be 1\n",
            "Sample (135, 'first enough racial stereotype racial joke offend everyone') , has been classified as 1 and should be 0\n",
            "Sample (140, 'steamboat willie amazingly important film cinema history') , has been classified as 0 and should be 1\n",
            "Sample (141, 'second appearance mickey mouse following silent plane crazy earlier year probably famous filmmostly groundbreaking') , has been classified as 0 and should be 1\n",
            "Sample (142, 'dont yet hear mickey speak ton sound effect music throughout filmsomething take granted huge crowd pleaser') , has been classified as 0 and should be 1\n",
            "Sample (143, 'however seeing short year amazed timeless film actually') , has been classified as 0 and should be 1\n",
            "Sample (144, 'adorable seeing mickey playing turkey straw highly imaginative occasionally cruel way') , has been classified as 0 and should be 1\n",
            "Sample (148, 'original body soul masterpiece') , has been classified as 0 and should be 1\n",
            "Sample (149, 'john garfield ann revere lilli plmer william conrad canada leeand filmed one greatest cinematographer ever grace screenjames wong howe') , has been classified as 0 and should be 1\n",
            "Sample (154, 'shame see good actor like thomerson james make living mess like') , has been classified as 1 and should be 0\n",
            "Sample (159, 'best example dumb writing established turn zombiestudents back human removing necklace containing piece meteorite') , has been classified as 1 and should be 0\n",
            "Sample (161, 'movie terribly boring place') , has been classified as 1 and should be 0\n",
            "Sample (172, 'recommended') , has been classified as 1 and should be 0\n",
            "Sample (177, 'film sole bright spot jonah hill look almost unrecognizable fan recent superbad due amount weight lost interim') , has been classified as 0 and should be 1\n",
            "Sample (183, 'failed convey broad sweep landscape great part original') , has been classified as 1 and should be 0\n",
            "Sample (185, 'recommended') , has been classified as 1 and should be 0\n",
            "Sample (187, 'plot keep going first place') , has been classified as 1 and should be 0\n",
            "Sample (193, 'tiny toon kept vibe delivered one popular funny underrated cartoon ever created') , has been classified as 0 and should be 1\n",
            "Sample (195, 'easily none cartoon made laugh tender way getting dark sitcom oriented teenager') , has been classified as 0 and should be 1\n",
            "Sample (196, 'character funny peculiarity true lead character') , has been classified as 0 and should be 1\n",
            "Sample (198, 'every element story top excessively phony contrived painful sit') , has been classified as 1 and should be 0\n",
            "Sample (208, 'accent absolutely abysmal') , has been classified as 1 and should be 0\n",
            "Sample (212, 'character interesting want find longer movie go think people surprised doesnt make') , has been classified as 0 and should be 1\n",
            "Sample (213, 'go watch') , has been classified as 0 and should be 1\n",
            "Sample (219, 'dont miss') , has been classified as 0 and should be 1\n",
            "Sample (222, 'exquisite visual composition moment inventive elegant use closeup camera angle lighting including pointillistic faux home movie footage wonder joy behold') , has been classified as 0 and should be 1\n",
            "Sample (228, 'thought errol flynn brilliant custer since become favourite actor') , has been classified as 0 and should be 1\n",
            "Sample (232, 'ill give film') , has been classified as 0 and should be 1\n",
            "Sample (233, 'know jim oconnor energetic nobody could much george well dull') , has been classified as 1 and should be 0\n",
            "Sample (238, 'say film excellently produced top rating typical sci fi film') , has been classified as 0 and should be 1\n",
            "Sample (240, 'entertaining nonetheless') , has been classified as 0 and should be 1\n",
            "Sample (241, 'campy sort film thats joy watch') , has been classified as 0 and should be 1\n",
            "Sample (242, 'there barely boring moment film plenty humorous part') , has been classified as 0 and should be 1\n",
            "Sample (244, 'overall delight') , has been classified as 0 and should be 1\n",
            "Sample (250, 'nothing short magnificent photographycinematography film') , has been classified as 0 and should be 1\n",
            "Sample (252, 'dont afraid subtitle worth little aversion therapy') , has been classified as 0 and should be 1\n",
            "Sample (257, 'macbeth jason connery moved tear final monolog brief candle outhe gave sphere moral decay dark force human face make interesting') , has been classified as 0 and should be 1\n",
            "Sample (258, 'helen baxendale credible lady macbeth cheerfull time sometimes look like naughty girl deadly taste blood evil') , has been classified as 0 and should be 1\n",
            "Sample (260, 'witty delightful adaptation dr seuss book brilliantly animated upas finest thoroughly deserving academy award') , has been classified as 0 and should be 1\n",
            "Sample (261, 'special mention made superb music score sound effect integral element helping make memorable enjoyable cartoon') , has been classified as 0 and should be 1\n",
            "Sample (262, 'however paul schrader indeed made film mishima superb complex') , has been classified as 0 and should be 1\n",
            "Sample (266, 'watch however small consolation actress playing anne sister wonderful job role') , has been classified as 0 and should be 1\n",
            "Sample (267, 'good') , has been classified as 1 and should be 0\n",
            "Sample (270, 'stunning movie') , has been classified as 0 and should be 1\n",
            "Sample (271, 'raw sublimely moving') , has been classified as 0 and should be 1\n",
            "Sample (273, 'main player mesmerising') , has been classified as 0 and should be 1\n",
            "Sample (274, 'tom wilkinson broke heart end everyone el judging amount fumbling hanky hand going face among male female alike') , has been classified as 0 and should be 1\n",
            "Sample (275, 'julian fellowes triumphed') , has been classified as 0 and should be 1\n",
            "Sample (277, 'go see') , has been classified as 0 and should be 1\n",
            "Sample (279, 'aerial scene welldone') , has been classified as 0 and should be 1\n",
            "Sample (281, 'film give meaning phrase never history human conflict much owed many') , has been classified as 0 and should be 1\n",
            "Sample (285, 'many continuity error one user commented different car garage joes glassesthe one got fact joes facial hair configuration seemed change scene scene') , has been classified as 1 and should be 0\n",
            "Sample (287, 'star') , has been classified as 0 and should be 1\n",
            "Sample (291, 'shot southern california desert using patent faux documentary style watkins creates film like') , has been classified as 0 and should be 1\n",
            "Sample (293, 'advise look') , has been classified as 0 and should be 1\n",
            "Sample (294, 'wont regret') , has been classified as 0 and should be 1\n",
            "Sample (303, 'result well shame') , has been classified as 1 and should be 0\n",
            "Sample (311, 'lame would best way describe') , has been classified as 1 and should be 0\n",
            "Sample (313, 'success film depends casting sydney greenstreet alexander yardley character') , has been classified as 0 and should be 1\n",
            "Sample (314, 'attractive set used throughout film eyepleasing gem') , has been classified as 0 and should be 1\n",
            "Sample (321, 'mediocre every aspect becomes dull uninteresting mess one forgettable movie ive seen') , has been classified as 1 and should be 0\n",
            "Sample (324, 'seriously worth wasting kid time') , has been classified as 1 and should be 0\n",
            "Sample (329, 'movie full wonderful dancing hence title') , has been classified as 0 and should be 1\n",
            "Sample (331, 'handle tough issue dignity grace course shocking spoiler') , has been classified as 0 and should be 1\n",
            "Sample (335, 'nothing new') , has been classified as 1 and should be 0\n",
            "Sample (344, 'emily watson character strong give quick glance understand everything') , has been classified as 0 and should be 1\n",
            "Sample (345, 'despite pan reviewer liked movie') , has been classified as 0 and should be 1\n",
            "Sample (348, 'im big fan series mostly due anne rice style sensitivity treatment') , has been classified as 0 and should be 1\n",
            "Sample (349, 'guess liked detail dysfunctionhe believable') , has been classified as 0 and should be 1\n",
            "Sample (351, 'thought acting skilled') , has been classified as 0 and should be 1\n",
            "Sample (353, 'charming film wonderful sentiment heart') , has been classified as 0 and should be 1\n",
            "Sample (355, 'nine ten truly lovely film') , has been classified as 0 and should be 1\n",
            "Sample (358, 'standout scene') , has been classified as 0 and should be 1\n",
            "Sample (363, 'liked way dustin hoffman character ready everything stay son') , has been classified as 0 and should be 1\n",
            "Sample (364, 'movie also revealing') , has been classified as 0 and should be 1\n",
            "Sample (367, 'tired cliche lazy writing come thick fast') , has been classified as 1 and should be 0\n",
            "Sample (368, 'p scene movie cool central character find room blown') , has been classified as 0 and should be 1\n",
            "Sample (369, 'fresh subtle rather sublime effect') , has been classified as 0 and should be 1\n",
            "Sample (372, 'learn lot real inside emotion people movie lot movie business') , has been classified as 0 and should be 1\n",
            "Sample (373, 'movie movie situation beginning game played acting coach fascinating') , has been classified as 0 and should be 1\n",
            "Sample (375, 'wont forget movie') , has been classified as 0 and should be 1\n",
            "Sample (381, 'foreigner worth one second time') , has been classified as 1 and should be 0\n",
            "Sample (387, 'want real scare rent one') , has been classified as 0 and should be 1\n",
            "Sample (389, 'extraordinary film') , has been classified as 0 and should be 1\n",
            "Sample (390, 'courtroom drama compelling indictment american justice system frightening') , has been classified as 0 and should be 1\n",
            "Sample (391, 'film highlight fundamental flaw legal process discovering guilt innocence rather present better court') , has been classified as 0 and should be 1\n",
            "Sample (394, 'predictable bad watch') , has been classified as 0 and should be 1\n",
            "Sample (395, 'clear range ability pull part') , has been classified as 0 and should be 1\n",
            "Sample (405, 'place good film garbage') , has been classified as 1 and should be 0\n",
            "Sample (407, 'editing editing film phenomenal opinion') , has been classified as 0 and should be 1\n",
            "Sample (408, 'song could explain emotion subject better jay adam unfortunate life subject talk song old man neil young played evokes many emotion') , has been classified as 0 and should be 1\n",
            "Sample (410, 'course footage grainy enhanced film') , has been classified as 0 and should be 1\n",
            "Sample (411, 'film offer many delight surprise') , has been classified as 0 and should be 1\n",
            "Sample (415, 'understated film leaf lasting impression') , has been classified as 0 and should be 1\n",
            "Sample (416, 'warmth generates contrast austere backdrop') , has been classified as 0 and should be 1\n",
            "Sample (417, 'leave theater wanting go dance star') , has been classified as 0 and should be 1\n",
            "Sample (418, 'acting youd expect cast top notch') , has been classified as 0 and should be 1\n",
            "Sample (419, 'character fleshed surprisingly well particularly grime blake actor deliver sharply scripted line right amount deadpan tongue cheek make dialogue hilarious realistic') , has been classified as 0 and should be 1\n",
            "Sample (422, 'long time since entertained movie') , has been classified as 0 and should be 1\n",
            "Sample (423, 'struggle find anything bad say') , has been classified as 0 and should be 1\n",
            "Sample (428, 'juano hernandez exceptional actor played supporting role many film era proud black man accused murdering white man south') , has been classified as 0 and should be 1\n",
            "Sample (431, 'see film') , has been classified as 0 and should be 1\n",
            "Sample (432, 'year however reminded u huston still top game evinced faithful adaptation james joyce acclaimed novella dead') , has been classified as 0 and should be 1\n",
            "Sample (433, 'feeling thoughtsgabriels discomfort danceall intangible leap life come within viewer grasp huston portrayal') , has been classified as 0 and should be 1\n",
            "Sample (442, 'movie possibly one creative work horror ever') , has been classified as 0 and should be 1\n",
            "Sample (443, 'everything could want suspense drama comedy confusing subplots native american brain eating youre looking beall endall brainsucking movie look') , has been classified as 0 and should be 1\n",
            "Sample (450, 'imagine every single one decision made wrong') , has been classified as 1 and should be 0\n",
            "Sample (460, 'ever indication writer director ability meld two highly volatile temperament seamless union creativity') , has been classified as 0 and should be 1\n",
            "Sample (461, 'result powerhouse achievement made timely perhaps culture disturbing fascination celebrity distorted interpretation fame') , has been classified as 0 and should be 1\n",
            "Sample (462, 'film easily forgotten') , has been classified as 0 and should be 1\n",
            "Sample (464, 'scripting subtle comedy unmatched movie recent year') , has been classified as 0 and should be 1\n",
            "Sample (465, 'character interesting even bit predictable') , has been classified as 0 and should be 1\n",
            "Sample (466, 'highly recommended age although younger set probably appreciate subtle reference certainly appreciate one galley scene particular') , has been classified as 0 and should be 1\n",
            "Sample (468, 'also story acting weak') , has been classified as 1 and should be 0\n",
            "Sample (472, 'story start fast absolutely suspense buildup slightest') , has been classified as 1 and should be 0\n",
            "Sample (490, 'consistent thread holding series together amazing performance leni parker anita laselva two taelons quiet idealogical conflict') , has been classified as 1 and should be 0\n",
            "Sample (493, 'puppet look really cheesy good way like puppet master flick') , has been classified as 1 and should be 0\n",
            "Sample (496, 'felt asleep first time watched recommend insomniac') , has been classified as 1 and should be 0\n",
            "Sample (497, 'fact film wonderful heartwarming tale two people chasing dream') , has been classified as 0 and should be 1\n",
            "Sample (499, 'director neil labute us brutal violence seperate dream reality along touching drama hilarious comedy never tell going happen next') , has been classified as 0 and should be 1\n",
            "Sample (501, 'one fails create real suspense') , has been classified as 1 and should be 0\n",
            "Sample (504, 'im sorry really cant recommend anyone') , has been classified as 1 and should be 0\n",
            "Sample (515, 'didnt realize wonderful short really last two scene') , has been classified as 0 and should be 1\n",
            "Sample (521, 'much dialogue much music whole film shot elaborately aesthetically like sculpture') , has been classified as 0 and should be 1\n",
            "Sample (525, 'easy watch') , has been classified as 1 and should be 0\n",
            "Sample (526, 'funny clever hip like prays previous film hype') , has been classified as 0 and should be 1\n",
            "Sample (527, 'long time didnt see charismatic actor screen') , has been classified as 0 and should be 1\n",
            "Sample (528, 'paolo sorrentino written wonderful story loneliness tony built one unforgettable character seen movie recent year') , has been classified as 0 and should be 1\n",
            "Sample (530, 'rate movie') , has been classified as 0 and should be 1\n",
            "Sample (532, 'interplay martin emilio contains wonderful chemistry saw wall street martin charlie') , has been classified as 0 and should be 1\n",
            "Sample (533, 'kathy bates wonderful character subtle desperation escapism variation character play field lord') , has been classified as 0 and should be 1\n",
            "Sample (534, 'reader already seen one miyazakis film still top form made another worthwhile experience') , has been classified as 0 and should be 1\n",
            "Sample (536, 'two main character may two believable child ever saw put screen') , has been classified as 0 and should be 1\n",
            "Sample (538, 'movie greatespecially enjoy visual art') , has been classified as 0 and should be 1\n",
            "Sample (539, 'scenery two daughter paint photograph beautiful') , has been classified as 0 and should be 1\n",
            "Sample (541, 'people like european film art movie like movie') , has been classified as 0 and should be 1\n",
            "Sample (542, 'truly art movieit actually lot art') , has been classified as 0 and should be 1\n",
            "Sample (543, 'go rent') , has been classified as 0 and should be 1\n",
            "Sample (544, 'however finally watching film realized closed mind brilliance depicts also found watching') , has been classified as 0 and should be 1\n",
            "Sample (545, 'one movie never cease interest simply keep alert try attempt decipher meaning') , has been classified as 0 and should be 1\n",
            "Sample (546, 'brilliance indeed') , has been classified as 0 and should be 1\n",
            "Sample (547, 'liked movie like matrix better yet sequel think youll appreciate thought provoking mindblowing experience film give') , has been classified as 0 and should be 1\n",
            "Sample (548, 'think film like dream') , has been classified as 0 and should be 1\n",
            "Sample (550, 'rickman stowe play role hilt tale childrens book writer maybe written subversive tract') , has been classified as 0 and should be 1\n",
            "Sample (552, 'present idyllic yet serious portrayal ups down character life') , has been classified as 0 and should be 1\n",
            "Sample (553, 'whatever avoid groove antithesis good human traffic') , has been classified as 1 and should be 0\n",
            "Sample (556, 'picked speed got right point') , has been classified as 0 and should be 1\n",
            "Sample (561, 'actor truly understand become particular character delivering convincing sincere performance') , has been classified as 0 and should be 1\n",
            "Sample (562, 'onscreen chemistry critical entire film genuine') , has been classified as 0 and should be 1\n",
            "Sample (563, 'film dialogue natural real life') , has been classified as 0 and should be 1\n",
            "Sample (564, 'writer gorman bechard undoubtedly homework reference industry characterage appropriate') , has been classified as 0 and should be 1\n",
            "Sample (566, 'track command sentiment actually contributing scene character') , has been classified as 0 and should be 1\n",
            "Sample (569, 'time seems film animation dominated disneypixars cgi masterpiece refreshing comforting know miyazaki still relying traditional handdrawn animation tell charming enchanting story') , has been classified as 0 and should be 1\n",
            "Sample (570, 'enough said remarkable animation film') , has been classified as 0 and should be 1\n",
            "Sample (571, 'art style appearance crayonpencil drawing wonderfully colorful fanciful') , has been classified as 0 and should be 1\n",
            "Sample (573, 'one want surf small wave space movie deep impact armageddon one fails everywhere') , has been classified as 1 and should be 0\n",
            "Sample (578, 'watched two sunday ago march th began really enjoy time taped entire thing') , has been classified as 0 and should be 1\n",
            "Sample (580, 'judith light one favorite actress think superb job film') , has been classified as 0 and should be 1\n",
            "Sample (581, 'keep watching') , has been classified as 0 and should be 1\n",
            "Sample (584, 'lovely usual cutie') , has been classified as 0 and should be 1\n",
            "Sample (587, 'movie wellbalanced comedy drama thoroughly enjoyed') , has been classified as 0 and should be 1\n",
            "Sample (588, 'riot see hugo weaving play sexobsessed gay real estate salesman us client house tryst flaming darren tom hollander') , has been classified as 0 and should be 1\n",
            "Sample (589, 'anyway plot flowed smoothly malebonding scene hoot') , has been classified as 0 and should be 1\n",
            "Sample (591, 'fan genre heaven') , has been classified as 0 and should be 1\n",
            "Sample (593, 'looked like wonderful story') , has been classified as 0 and should be 1\n"
          ]
        }
      ],
      "source": [
        "for idx, prediction, label in zip(enumerate(test_df['Sentence_clean']), pred_test, y_test):\n",
        "    if prediction != label:\n",
        "        print(\"Sample\", idx, ', has been classified as', prediction, 'and should be', label) "
      ]
    },
    {
      "cell_type": "markdown",
      "metadata": {
        "id": "DekZ7mulNTmr"
      },
      "source": [
        "Insert answer here. (Feel free to create new code cells if necessary.)"
      ]
    },
    {
      "cell_type": "markdown",
      "metadata": {
        "id": "bE2GL8VMNKHj"
      },
      "source": [
        "# Question 2 (Optional): Sentiment Analysis via Deep ML\n",
        "\n",
        "This question is optional and worth up to 5 extra credit marks.\n",
        "\n",
        "Use deep learning (e.g., RNNs and variants, CNNs and variants, and/or transformers) to build a model on the same dataset and compare the results with the Shallow ML model.\n",
        "\n",
        "You may train your own deep ML model (using, e.g., the keras library) or use a pre-trained deep ML model (using, e.g., the transformers library)."
      ]
    },
    {
      "cell_type": "code",
      "execution_count": 50,
      "metadata": {
        "id": "LhM3_13LRdTI"
      },
      "outputs": [],
      "source": [
        "# Creating Embeddings using DistilBERT \n",
        "tokenizer = AutoTokenizer.from_pretrained('distilbert-base-uncased')"
      ]
    },
    {
      "cell_type": "code",
      "execution_count": 51,
      "metadata": {
        "colab": {
          "base_uri": "https://localhost:8080/"
        },
        "id": "Ltcz69A2vyu3",
        "outputId": "72501f0f-b5c7-4700-a0c8-e39d42f1400b"
      },
      "outputs": [
        {
          "output_type": "stream",
          "name": "stdout",
          "text": [
            "The maximum amount of tokens in the dataset is 84\n"
          ]
        }
      ],
      "source": [
        "# Check longest token sequence in entire text\n",
        "def checkForMaxTokenSeqInData(text_list, tokenizer_i):\n",
        "  \n",
        "    max_val = 0\n",
        "    for sent in text_list:\n",
        "        try:\n",
        "            sent_tok_len = len(tokenizer_i.tokenize(sent))\n",
        "            max_val = sent_tok_len if (sent_tok_len > max_val) else max_val\n",
        "        except:\n",
        "            pass\n",
        "    \n",
        "    print(f\"The maximum amount of tokens in the dataset is {max_val}\")\n",
        "    return max_val\n",
        "\n",
        "MAX_VAL = checkForMaxTokenSeqInData(X_train.to_list()+X_val.to_list(),tokenizer)"
      ]
    },
    {
      "cell_type": "code",
      "execution_count": 52,
      "metadata": {
        "id": "gCOtl0_mv3Xm"
      },
      "outputs": [],
      "source": [
        "def encode_text(tokenizer_i, text, max_text_length):\n",
        "\n",
        "    # Encode the sentence\n",
        "    encodedText = tokenizer_i(text,\n",
        "                             max_length =max_text_length,\n",
        "                            truncation=True, \n",
        "                            add_special_tokens=True, \n",
        "                            padding='max_length')\n",
        "    return encodedText\n",
        "\n",
        "train_encoding = encode_text(tokenizer, X_train.to_list(), MAX_VAL)\n",
        "val_encoding = encode_text(tokenizer, X_val.to_list(), MAX_VAL)\n"
      ]
    },
    {
      "cell_type": "markdown",
      "metadata": {
        "id": "uWLTzGYhwhb5"
      },
      "source": [
        "###Build Model"
      ]
    },
    {
      "cell_type": "code",
      "execution_count": 53,
      "metadata": {
        "colab": {
          "base_uri": "https://localhost:8080/"
        },
        "id": "eLbhbOTlwEJY",
        "outputId": "966940e8-fae6-4831-cc24-845c8ad25fb4"
      },
      "outputs": [
        {
          "output_type": "stream",
          "name": "stderr",
          "text": [
            "Some layers from the model checkpoint at distilbert-base-uncased were not used when initializing TFDistilBertModel: ['vocab_transform', 'vocab_projector', 'activation_13', 'vocab_layer_norm']\n",
            "- This IS expected if you are initializing TFDistilBertModel from the checkpoint of a model trained on another task or with another architecture (e.g. initializing a BertForSequenceClassification model from a BertForPreTraining model).\n",
            "- This IS NOT expected if you are initializing TFDistilBertModel from the checkpoint of a model that you expect to be exactly identical (initializing a BertForSequenceClassification model from a BertForSequenceClassification model).\n",
            "All the layers of TFDistilBertModel were initialized from the model checkpoint at distilbert-base-uncased.\n",
            "If your task is similar to the task the model of the checkpoint was trained on, you can already use TFDistilBertModel for predictions without further training.\n"
          ]
        },
        {
          "output_type": "stream",
          "name": "stdout",
          "text": [
            "Model: \"model_1\"\n",
            "__________________________________________________________________________________________________\n",
            " Layer (type)                   Output Shape         Param #     Connected to                     \n",
            "==================================================================================================\n",
            " input_ids (InputLayer)         [(None, 84)]         0           []                               \n",
            "                                                                                                  \n",
            " attention_mask (InputLayer)    [(None, 84)]         0           []                               \n",
            "                                                                                                  \n",
            " tf_distil_bert_model_1 (TFDist  TFBaseModelOutput(l  66362880   ['input_ids[0][0]',              \n",
            " ilBertModel)                   ast_hidden_state=(N               'attention_mask[0][0]']         \n",
            "                                one, 84, 768),                                                    \n",
            "                                 hidden_states=None                                               \n",
            "                                , attentions=None)                                                \n",
            "                                                                                                  \n",
            " tf.__operators__.getitem_1 (Sl  (None, 768)         0           ['tf_distil_bert_model_1[0][0]'] \n",
            " icingOpLambda)                                                                                   \n",
            "                                                                                                  \n",
            " dropout_40 (Dropout)           (None, 768)          0           ['tf.__operators__.getitem_1[0][0\n",
            "                                                                 ]']                              \n",
            "                                                                                                  \n",
            " dense_1 (Dense)                (None, 128)          98432       ['dropout_40[0][0]']             \n",
            "                                                                                                  \n",
            " dropout_41 (Dropout)           (None, 128)          0           ['dense_1[0][0]']                \n",
            "                                                                                                  \n",
            " flatten_1 (Flatten)            (None, 128)          0           ['dropout_41[0][0]']             \n",
            "                                                                                                  \n",
            " output (Dense)                 (None, 1)            129         ['flatten_1[0][0]']              \n",
            "                                                                                                  \n",
            "==================================================================================================\n",
            "Total params: 66,461,441\n",
            "Trainable params: 98,561\n",
            "Non-trainable params: 66,362,880\n",
            "__________________________________________________________________________________________________\n"
          ]
        }
      ],
      "source": [
        "from transformers import DistilBertTokenizer, TFDistilBertForSequenceClassification\n",
        "def build_model(base_model, trainable=False, params={}):\n",
        "    inputs = Input(shape = (params['max_seq_length'],),name='input_ids', dtype='int32')\n",
        "    masks  = Input(shape = (params['max_seq_length'],),name='attention_mask', dtype='int32')\n",
        "\n",
        "    base_model.trainable = trainable\n",
        "\n",
        "    dbert_output = base_model(inputs, masks)[0]\n",
        "    cls_token = dbert_output[:, 0, :]\n",
        "    dropout_layer = Dropout(params['dropout_rate_1'])(cls_token)\n",
        "    dense_layer = Dense(params['dense_layer_1_units'],activation='relu')(dropout_layer)\n",
        "    dropout_layer = Dropout(params['dropout_rate_2'])(dense_layer)\n",
        "    flatten = Flatten()(dropout_layer)\n",
        "    probs = Dense(1, activation='sigmoid', name=\"output\")(flatten)\n",
        "\n",
        "    model = keras.Model(inputs=[inputs, masks], outputs=probs)\n",
        "    model.summary()\n",
        "    return model\n",
        "\n",
        "MODEL_NAME= 'distilbert-base-uncased'\n",
        "\n",
        "# Configure DistilBERT's initialization\n",
        "config = DistilBertConfig(output_hidden_states=False)\n",
        "                          \n",
        "# The bare, pre-trained DistilBERT transformer model outputting raw hidden-states \n",
        "# and without any specific head on top.\n",
        "dbert_model = TFDistilBertModel.from_pretrained('distilbert-base-uncased', config=config)\n",
        "params={\n",
        "        \"dense_layer_1_units\": 128,        \n",
        "        \"dropout_rate_1\": 0.2,\n",
        "\t      \"dense_layer_2_units\": 32,\n",
        "        \"dropout_rate_2\": 0.2,\n",
        "        \"regularizer_l2_rate\":0.01,\n",
        "        \"max_seq_length\":MAX_VAL\n",
        "        }\n",
        "\n",
        "model = build_model(dbert_model, trainable=False, params=params)"
      ]
    },
    {
      "cell_type": "code",
      "execution_count": 54,
      "metadata": {
        "id": "Nh7wo9vgwLSc"
      },
      "outputs": [],
      "source": [
        "def compile_model(model, lr):\n",
        "\n",
        "    optimizer = keras.optimizers.Adam(learning_rate=lr)\n",
        "    loss = keras.losses.binary_crossentropy\n",
        "    model.compile(optimizer=optimizer,\n",
        "              loss=loss,\n",
        "              metrics='accuracy')\n",
        "    return model\n",
        "\n",
        "\n",
        "model = compile_model(model, 0.002)"
      ]
    },
    {
      "cell_type": "code",
      "execution_count": 55,
      "metadata": {
        "colab": {
          "base_uri": "https://localhost:8080/"
        },
        "id": "dgc2eoalwNk-",
        "outputId": "7ad2f157-1738-471e-d5aa-1f2323f8403b"
      },
      "outputs": [
        {
          "output_type": "stream",
          "name": "stdout",
          "text": [
            "Epoch 1/10\n",
            "57/57 [==============================] - 25s 445ms/step - loss: 0.4370 - accuracy: 0.7939 - val_loss: 0.2900 - val_accuracy: 0.8833\n",
            "Epoch 2/10\n",
            "57/57 [==============================] - 18s 318ms/step - loss: 0.3176 - accuracy: 0.8672 - val_loss: 0.2558 - val_accuracy: 0.9133\n",
            "Epoch 3/10\n",
            "57/57 [==============================] - 18s 311ms/step - loss: 0.3028 - accuracy: 0.8661 - val_loss: 0.2763 - val_accuracy: 0.8950\n",
            "Epoch 4/10\n",
            "57/57 [==============================] - 18s 308ms/step - loss: 0.3105 - accuracy: 0.8689 - val_loss: 0.2469 - val_accuracy: 0.9067\n",
            "Epoch 5/10\n",
            "57/57 [==============================] - 18s 323ms/step - loss: 0.2792 - accuracy: 0.8867 - val_loss: 0.2544 - val_accuracy: 0.9050\n",
            "Epoch 6/10\n",
            "57/57 [==============================] - 18s 311ms/step - loss: 0.2888 - accuracy: 0.8778 - val_loss: 0.2384 - val_accuracy: 0.9100\n",
            "Epoch 7/10\n",
            "57/57 [==============================] - 18s 313ms/step - loss: 0.2785 - accuracy: 0.8828 - val_loss: 0.2799 - val_accuracy: 0.8883\n",
            "Epoch 8/10\n",
            "57/57 [==============================] - 18s 314ms/step - loss: 0.2769 - accuracy: 0.8917 - val_loss: 0.2389 - val_accuracy: 0.9067\n",
            "Epoch 9/10\n",
            "57/57 [==============================] - 18s 315ms/step - loss: 0.2808 - accuracy: 0.8778 - val_loss: 0.2536 - val_accuracy: 0.9000\n",
            "Epoch 10/10\n",
            "57/57 [==============================] - 19s 340ms/step - loss: 0.2850 - accuracy: 0.8833 - val_loss: 0.3562 - val_accuracy: 0.8550\n"
          ]
        }
      ],
      "source": [
        "def train_model(model, model_inputs_and_masks_train, model_inputs_and_masks_val,\n",
        "    y_train, y_val, batch_size, num_epochs):\n",
        "\n",
        "    dataset_train = tf.data.Dataset.from_tensor_slices((dict(model_inputs_and_masks_train),y_train))\n",
        "    dataset_val = tf.data.Dataset.from_tensor_slices((dict(model_inputs_and_masks_val),y_val))\n",
        "\n",
        "    history = model.fit(dataset_train.shuffle(len(dataset_train)).batch(batch_size), \n",
        "                    epochs=num_epochs, \n",
        "                    batch_size=batch_size,\n",
        "                    validation_data=dataset_val.shuffle(len(dataset_val)).batch(batch_size), \n",
        "                    verbose=1)\n",
        "    \n",
        "    return model, history, dataset_val\n",
        "\n",
        "tf.config.run_functions_eagerly(True) #use function decorator in TF 2.0, please enable run function eagerly by using below line after importing TensorFlow\n",
        "model, history, val_dataset = train_model(model, train_encoding, val_encoding, y_train, y_val, batch_size=32, num_epochs=10)"
      ]
    },
    {
      "cell_type": "markdown",
      "metadata": {
        "id": "bOUpymo_wXIo"
      },
      "source": [
        "### Model Evaluation"
      ]
    },
    {
      "cell_type": "code",
      "execution_count": 56,
      "metadata": {
        "colab": {
          "base_uri": "https://localhost:8080/"
        },
        "id": "0BMRrChy8Ywk",
        "outputId": "2e565e77-4798-4193-ecd4-07381885d1d7"
      },
      "outputs": [
        {
          "output_type": "execute_result",
          "data": {
            "text/plain": [
              "0      1\n",
              "1      1\n",
              "2      1\n",
              "3      1\n",
              "4      1\n",
              "      ..\n",
              "595    0\n",
              "596    0\n",
              "597    0\n",
              "598    0\n",
              "599    0\n",
              "Name: Polarity, Length: 600, dtype: int64"
            ]
          },
          "metadata": {},
          "execution_count": 56
        }
      ],
      "source": [
        "y_test"
      ]
    },
    {
      "cell_type": "code",
      "execution_count": 72,
      "metadata": {
        "id": "prMX6HhqwZPO"
      },
      "outputs": [],
      "source": [
        "# Test data - Tensor Conversion\n",
        "def predict_labels(model, dataset):\n",
        "  output = model.predict(dataset.batch(1)) \n",
        "  predicted_labels = (output>0.50)\n",
        "  return output, predicted_labels\n",
        "\n",
        "test_encoding = encode_text(tokenizer, test_df['Sentence_clean'].to_list(), MAX_VAL)\n",
        "dataset_test = tf.data.Dataset.from_tensor_slices((dict(test_encoding)))\n",
        "predicted_prob, predicted_labels = predict_labels(model, dataset_test)\n",
        "#print(\"predicted_prob:\",predicted_prob)\n",
        "#print(\"predicted_labels:\",predicted_labels)"
      ]
    },
    {
      "cell_type": "code",
      "execution_count": 73,
      "metadata": {
        "colab": {
          "base_uri": "https://localhost:8080/"
        },
        "id": "b1lYwFFY7lM2",
        "outputId": "c31ccd5c-8ecc-46cf-fa7a-f01129c8d57a"
      },
      "outputs": [
        {
          "output_type": "stream",
          "name": "stdout",
          "text": [
            "              precision    recall  f1-score   support\n",
            "\n",
            "           0       0.92      0.49      0.64       287\n",
            "           1       0.67      0.96      0.79       313\n",
            "\n",
            "    accuracy                           0.74       600\n",
            "   macro avg       0.80      0.73      0.72       600\n",
            "weighted avg       0.79      0.74      0.72       600\n",
            "\n",
            "auc_score_test_nn: 0.8966837728623749\n",
            "accuracy_nn 0.7366666666666667\n"
          ]
        }
      ],
      "source": [
        "print(classification_report(y_test, predicted_labels))\n",
        "fpr, tpr, thresh = roc_curve(y_test, predicted_prob[:], pos_label=1)\n",
        "\n",
        "# roc curve for tpr = fpr \n",
        "random_probs = [0 for i in range(len(y_test))]\n",
        "p_fpr, p_tpr, _ = roc_curve(y_test, random_probs, pos_label=1)\n",
        "\n",
        "auc_score_nn = roc_auc_score(y_test, predicted_prob[:])\n",
        "\n",
        "print('auc_score_test_nn:',auc_score_nn)\n",
        "print('accuracy_nn %s' % accuracy_score(predicted_labels, y_test))"
      ]
    },
    {
      "cell_type": "markdown",
      "source": [
        "##Deep ML - Conclusion\n"
      ],
      "metadata": {
        "id": "HboWpFGPkyQM"
      }
    }
  ],
  "metadata": {
    "accelerator": "GPU",
    "colab": {
      "collapsed_sections": [],
      "name": "MMAI 2022 891 Individual Assignment_Solution.ipynb",
      "provenance": [],
      "include_colab_link": true
    },
    "kernelspec": {
      "display_name": "Python 3",
      "name": "python3"
    }
  },
  "nbformat": 4,
  "nbformat_minor": 0
}