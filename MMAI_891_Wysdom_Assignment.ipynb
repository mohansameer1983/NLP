{
  "nbformat": 4,
  "nbformat_minor": 0,
  "metadata": {
    "colab": {
      "name": "MMAI-891-Wysdom-Assignment.ipynb",
      "provenance": [],
      "collapsed_sections": [],
      "include_colab_link": true
    },
    "kernelspec": {
      "name": "python3",
      "display_name": "Python 3"
    },
    "language_info": {
      "name": "python"
    }
  },
  "cells": [
    {
      "cell_type": "markdown",
      "metadata": {
        "id": "view-in-github",
        "colab_type": "text"
      },
      "source": [
        "<a href=\"https://colab.research.google.com/github/mohansameer1983/NLP/blob/main/MMAI_891_Wysdom_Assignment.ipynb\" target=\"_parent\"><img src=\"https://colab.research.google.com/assets/colab-badge.svg\" alt=\"Open In Colab\"/></a>"
      ]
    },
    {
      "cell_type": "code",
      "metadata": {
        "id": "hZj4c0xTeMwH"
      },
      "source": [
        "# This cell installs and sets up DistilBert import, as well as the dataset, which we will \n",
        "# use tf.datasets to load (https://www.tensorflow.org/datasets/catalog/overview)\n",
        "\n",
        "!pip install -q transformers tfds-nightly\n",
        "\n",
        "import matplotlib.pyplot as plt\n",
        "import tensorflow as tf\n",
        "import tensorflow.keras as keras\n",
        "import pandas as pd\n",
        "from sklearn.model_selection import train_test_split\n",
        "from sklearn.metrics.cluster import adjusted_rand_score, adjusted_mutual_info_score\n",
        "from sklearn.preprocessing import LabelEncoder\n",
        "\n",
        "try: # this is only working on the 2nd try in colab :)\n",
        "  from transformers import DistilBertTokenizer, TFDistilBertModel\n",
        "except Exception as err: # so we catch the error and import it again\n",
        "  from transformers import DistilBertTokenizer, TFDistilBertModel\n",
        "\n",
        "import numpy as np\n",
        "import tensorflow.keras as keras\n",
        "from tensorflow.keras.layers import Dense, Input, Dropout\n",
        "from tensorflow.keras import regularizers\n",
        "\n",
        "import tensorflow_datasets as tfds\n",
        "\n",
        "import re"
      ],
      "execution_count": 34,
      "outputs": []
    },
    {
      "cell_type": "code",
      "source": [
        "# Mount Google drive so dataset can be accessed\n",
        "from google.colab import drive\n",
        "drive.mount('/content/drive')"
      ],
      "metadata": {
        "colab": {
          "base_uri": "https://localhost:8080/"
        },
        "id": "1ymezdl5J0Lz",
        "outputId": "31e5908a-f489-4bb2-aa87-b1c1cf921e00"
      },
      "execution_count": 2,
      "outputs": [
        {
          "output_type": "stream",
          "name": "stdout",
          "text": [
            "Mounted at /content/drive\n"
          ]
        }
      ]
    },
    {
      "cell_type": "markdown",
      "source": [
        "# Data Preparation"
      ],
      "metadata": {
        "id": "jHvJJjnCRYF2"
      }
    },
    {
      "cell_type": "code",
      "source": [
        "def load_data():\n",
        "  data_df = pd.read_csv(\"/content/drive/MyDrive/Colab Notebooks/data/public_data.csv\")\n",
        "  return data_df\n",
        "\n",
        "orig_data = load_data()\n",
        "orig_data"
      ],
      "metadata": {
        "id": "q3gYLKfEd0Hb",
        "colab": {
          "base_uri": "https://localhost:8080/",
          "height": 424
        },
        "outputId": "1f284753-fb3f-4cae-bb38-8df483b0b085"
      },
      "execution_count": 4,
      "outputs": [
        {
          "output_type": "execute_result",
          "data": {
            "text/plain": [
              "         id                                            message  \\\n",
              "0     10480                           start the robotic vacuum   \n",
              "1      4210          i am sorry but i think you are not right.   \n",
              "2      2443  what is the time difference between california...   \n",
              "3      5869                              tell me my list names   \n",
              "4      2801                 beep when i get an email from john   \n",
              "...     ...                                                ...   \n",
              "8879   9708             search for a train ticket to newcastle   \n",
              "8880   8278               is there a food festival in the area   \n",
              "8881  10509                       make the lights blue in here   \n",
              "8882   7046                           play from favorites song   \n",
              "8883    248                                send a replay email   \n",
              "\n",
              "                      label  \n",
              "0              iot_cleaning  \n",
              "1            general_negate  \n",
              "2          datetime_convert  \n",
              "3               lists_query  \n",
              "4               email_query  \n",
              "...                     ...  \n",
              "8879       transport_ticket  \n",
              "8880  recommendation_events  \n",
              "8881    iot_hue_lightchange  \n",
              "8882             play_music  \n",
              "8883        email_sendemail  \n",
              "\n",
              "[8884 rows x 3 columns]"
            ],
            "text/html": [
              "\n",
              "  <div id=\"df-8ca436eb-0914-4598-bf03-9ecc7a8ca9d6\">\n",
              "    <div class=\"colab-df-container\">\n",
              "      <div>\n",
              "<style scoped>\n",
              "    .dataframe tbody tr th:only-of-type {\n",
              "        vertical-align: middle;\n",
              "    }\n",
              "\n",
              "    .dataframe tbody tr th {\n",
              "        vertical-align: top;\n",
              "    }\n",
              "\n",
              "    .dataframe thead th {\n",
              "        text-align: right;\n",
              "    }\n",
              "</style>\n",
              "<table border=\"1\" class=\"dataframe\">\n",
              "  <thead>\n",
              "    <tr style=\"text-align: right;\">\n",
              "      <th></th>\n",
              "      <th>id</th>\n",
              "      <th>message</th>\n",
              "      <th>label</th>\n",
              "    </tr>\n",
              "  </thead>\n",
              "  <tbody>\n",
              "    <tr>\n",
              "      <th>0</th>\n",
              "      <td>10480</td>\n",
              "      <td>start the robotic vacuum</td>\n",
              "      <td>iot_cleaning</td>\n",
              "    </tr>\n",
              "    <tr>\n",
              "      <th>1</th>\n",
              "      <td>4210</td>\n",
              "      <td>i am sorry but i think you are not right.</td>\n",
              "      <td>general_negate</td>\n",
              "    </tr>\n",
              "    <tr>\n",
              "      <th>2</th>\n",
              "      <td>2443</td>\n",
              "      <td>what is the time difference between california...</td>\n",
              "      <td>datetime_convert</td>\n",
              "    </tr>\n",
              "    <tr>\n",
              "      <th>3</th>\n",
              "      <td>5869</td>\n",
              "      <td>tell me my list names</td>\n",
              "      <td>lists_query</td>\n",
              "    </tr>\n",
              "    <tr>\n",
              "      <th>4</th>\n",
              "      <td>2801</td>\n",
              "      <td>beep when i get an email from john</td>\n",
              "      <td>email_query</td>\n",
              "    </tr>\n",
              "    <tr>\n",
              "      <th>...</th>\n",
              "      <td>...</td>\n",
              "      <td>...</td>\n",
              "      <td>...</td>\n",
              "    </tr>\n",
              "    <tr>\n",
              "      <th>8879</th>\n",
              "      <td>9708</td>\n",
              "      <td>search for a train ticket to newcastle</td>\n",
              "      <td>transport_ticket</td>\n",
              "    </tr>\n",
              "    <tr>\n",
              "      <th>8880</th>\n",
              "      <td>8278</td>\n",
              "      <td>is there a food festival in the area</td>\n",
              "      <td>recommendation_events</td>\n",
              "    </tr>\n",
              "    <tr>\n",
              "      <th>8881</th>\n",
              "      <td>10509</td>\n",
              "      <td>make the lights blue in here</td>\n",
              "      <td>iot_hue_lightchange</td>\n",
              "    </tr>\n",
              "    <tr>\n",
              "      <th>8882</th>\n",
              "      <td>7046</td>\n",
              "      <td>play from favorites song</td>\n",
              "      <td>play_music</td>\n",
              "    </tr>\n",
              "    <tr>\n",
              "      <th>8883</th>\n",
              "      <td>248</td>\n",
              "      <td>send a replay email</td>\n",
              "      <td>email_sendemail</td>\n",
              "    </tr>\n",
              "  </tbody>\n",
              "</table>\n",
              "<p>8884 rows × 3 columns</p>\n",
              "</div>\n",
              "      <button class=\"colab-df-convert\" onclick=\"convertToInteractive('df-8ca436eb-0914-4598-bf03-9ecc7a8ca9d6')\"\n",
              "              title=\"Convert this dataframe to an interactive table.\"\n",
              "              style=\"display:none;\">\n",
              "        \n",
              "  <svg xmlns=\"http://www.w3.org/2000/svg\" height=\"24px\"viewBox=\"0 0 24 24\"\n",
              "       width=\"24px\">\n",
              "    <path d=\"M0 0h24v24H0V0z\" fill=\"none\"/>\n",
              "    <path d=\"M18.56 5.44l.94 2.06.94-2.06 2.06-.94-2.06-.94-.94-2.06-.94 2.06-2.06.94zm-11 1L8.5 8.5l.94-2.06 2.06-.94-2.06-.94L8.5 2.5l-.94 2.06-2.06.94zm10 10l.94 2.06.94-2.06 2.06-.94-2.06-.94-.94-2.06-.94 2.06-2.06.94z\"/><path d=\"M17.41 7.96l-1.37-1.37c-.4-.4-.92-.59-1.43-.59-.52 0-1.04.2-1.43.59L10.3 9.45l-7.72 7.72c-.78.78-.78 2.05 0 2.83L4 21.41c.39.39.9.59 1.41.59.51 0 1.02-.2 1.41-.59l7.78-7.78 2.81-2.81c.8-.78.8-2.07 0-2.86zM5.41 20L4 18.59l7.72-7.72 1.47 1.35L5.41 20z\"/>\n",
              "  </svg>\n",
              "      </button>\n",
              "      \n",
              "  <style>\n",
              "    .colab-df-container {\n",
              "      display:flex;\n",
              "      flex-wrap:wrap;\n",
              "      gap: 12px;\n",
              "    }\n",
              "\n",
              "    .colab-df-convert {\n",
              "      background-color: #E8F0FE;\n",
              "      border: none;\n",
              "      border-radius: 50%;\n",
              "      cursor: pointer;\n",
              "      display: none;\n",
              "      fill: #1967D2;\n",
              "      height: 32px;\n",
              "      padding: 0 0 0 0;\n",
              "      width: 32px;\n",
              "    }\n",
              "\n",
              "    .colab-df-convert:hover {\n",
              "      background-color: #E2EBFA;\n",
              "      box-shadow: 0px 1px 2px rgba(60, 64, 67, 0.3), 0px 1px 3px 1px rgba(60, 64, 67, 0.15);\n",
              "      fill: #174EA6;\n",
              "    }\n",
              "\n",
              "    [theme=dark] .colab-df-convert {\n",
              "      background-color: #3B4455;\n",
              "      fill: #D2E3FC;\n",
              "    }\n",
              "\n",
              "    [theme=dark] .colab-df-convert:hover {\n",
              "      background-color: #434B5C;\n",
              "      box-shadow: 0px 1px 3px 1px rgba(0, 0, 0, 0.15);\n",
              "      filter: drop-shadow(0px 1px 2px rgba(0, 0, 0, 0.3));\n",
              "      fill: #FFFFFF;\n",
              "    }\n",
              "  </style>\n",
              "\n",
              "      <script>\n",
              "        const buttonEl =\n",
              "          document.querySelector('#df-8ca436eb-0914-4598-bf03-9ecc7a8ca9d6 button.colab-df-convert');\n",
              "        buttonEl.style.display =\n",
              "          google.colab.kernel.accessAllowed ? 'block' : 'none';\n",
              "\n",
              "        async function convertToInteractive(key) {\n",
              "          const element = document.querySelector('#df-8ca436eb-0914-4598-bf03-9ecc7a8ca9d6');\n",
              "          const dataTable =\n",
              "            await google.colab.kernel.invokeFunction('convertToInteractive',\n",
              "                                                     [key], {});\n",
              "          if (!dataTable) return;\n",
              "\n",
              "          const docLinkHtml = 'Like what you see? Visit the ' +\n",
              "            '<a target=\"_blank\" href=https://colab.research.google.com/notebooks/data_table.ipynb>data table notebook</a>'\n",
              "            + ' to learn more about interactive tables.';\n",
              "          element.innerHTML = '';\n",
              "          dataTable['output_type'] = 'display_data';\n",
              "          await google.colab.output.renderOutput(dataTable, element);\n",
              "          const docLink = document.createElement('div');\n",
              "          docLink.innerHTML = docLinkHtml;\n",
              "          element.appendChild(docLink);\n",
              "        }\n",
              "      </script>\n",
              "    </div>\n",
              "  </div>\n",
              "  "
            ]
          },
          "metadata": {},
          "execution_count": 4
        }
      ]
    },
    {
      "cell_type": "code",
      "source": [
        "orig_data.drop_duplicates(inplace= True)"
      ],
      "metadata": {
        "id": "gX982idqTINz"
      },
      "execution_count": 23,
      "outputs": []
    },
    {
      "cell_type": "code",
      "source": [
        "orig_data.isna().sum()"
      ],
      "metadata": {
        "colab": {
          "base_uri": "https://localhost:8080/"
        },
        "id": "dW9TNeaAToOS",
        "outputId": "f4af63be-d226-46a7-b1b0-19ab2b272e5a"
      },
      "execution_count": 24,
      "outputs": [
        {
          "output_type": "execute_result",
          "data": {
            "text/plain": [
              "id         0\n",
              "message    0\n",
              "label      0\n",
              "dtype: int64"
            ]
          },
          "metadata": {},
          "execution_count": 24
        }
      ]
    },
    {
      "cell_type": "code",
      "source": [
        "max_words = []\n",
        "for row in orig_data['message']:\n",
        "    max_words.append(len(row.split()))\n",
        "print(f\"The max word count is {np.asarray(max_words).max()}\")"
      ],
      "metadata": {
        "colab": {
          "base_uri": "https://localhost:8080/"
        },
        "id": "O6SZBEMHT1Qj",
        "outputId": "7a1710a3-e35e-4562-cbf7-5f3fad3a4b60"
      },
      "execution_count": 25,
      "outputs": [
        {
          "output_type": "stream",
          "name": "stdout",
          "text": [
            "The max word count is 25\n"
          ]
        }
      ]
    },
    {
      "cell_type": "code",
      "source": [
        "def clean_data(df):\n",
        "\n",
        "  for ind in df.index:\n",
        "    \n",
        "    string = df[\"message\"][ind]\n",
        "    punctuations=r'''!()-[]{};:'\"\\,<>./?@#$%^&*_~'''\n",
        "    stop_words=['the', 'a', 'and', 'is', 'be', 'will']\n",
        "    # Cleaning the urls\n",
        "    string = re.sub(r'https?://\\S+|www\\.\\S+', '', string)\n",
        "\n",
        "    # Cleaning the html elements\n",
        "    string = re.sub(r'<.*?>', '', string)\n",
        "\n",
        "    # Removing the punctuations\n",
        "    for x in string.lower(): \n",
        "        if x in punctuations: \n",
        "            string = string.replace(x, \"\") \n",
        "\n",
        "    # Converting the text to lower\n",
        "    string = string.lower()\n",
        "\n",
        "    # Removing stop words\n",
        "    string = ' '.join([word for word in string.split() if word not in stop_words])\n",
        "\n",
        "    # Cleaning the whitespaces\n",
        "    string = re.sub(r'\\s+', ' ', string).strip()\n",
        "\n",
        "    df[\"message\"][ind]=string\n",
        "  return df\n",
        "\n",
        "train_cleaned_df = clean_data(orig_data)\n"
      ],
      "metadata": {
        "id": "xHNJC2vZmTWl",
        "colab": {
          "base_uri": "https://localhost:8080/"
        },
        "outputId": "2185e3fd-993c-4e35-f7d4-8d529d7b936f"
      },
      "execution_count": 26,
      "outputs": [
        {
          "output_type": "stream",
          "name": "stderr",
          "text": [
            "/usr/local/lib/python3.7/dist-packages/ipykernel_launcher.py:28: SettingWithCopyWarning: \n",
            "A value is trying to be set on a copy of a slice from a DataFrame\n",
            "\n",
            "See the caveats in the documentation: https://pandas.pydata.org/pandas-docs/stable/user_guide/indexing.html#returning-a-view-versus-a-copy\n"
          ]
        }
      ]
    },
    {
      "cell_type": "markdown",
      "source": [
        "#Split Data\n",
        "\n",
        "## Training Data Split"
      ],
      "metadata": {
        "id": "hCPAiqgANblk"
      }
    },
    {
      "cell_type": "code",
      "source": [
        "def extract_text_and_y(df, test_size):\n",
        "\n",
        "  text = df['message']\n",
        "\n",
        "  le = LabelEncoder()\n",
        "  df['label_encoded'] = le.fit_transform(df['label'])\n",
        "  y = df['label_encoded']\n",
        "\n",
        "  label_dict = (train_cleaned_df[['label','label_encoded']].drop_duplicates()\n",
        "              .sort_values(by='label_encoded')\n",
        "              .reset_index(drop=True)['label']\n",
        "              .to_dict())\n",
        "  \n",
        "\n",
        "\n",
        "  X_train, X_val, y_train, y_val = train_test_split(text, y, test_size=test_size, random_state=2)\n",
        "  return X_train, X_val, y_train, y_val, label_dict\n",
        "\n",
        "# the following prepares the input for running in DistilBert\n",
        "train_text, val_text, train_y, val_y, label_dict = extract_text_and_y(train_cleaned_df, 0.30)"
      ],
      "metadata": {
        "id": "_RBthPA0fcTA"
      },
      "execution_count": 38,
      "outputs": []
    },
    {
      "cell_type": "code",
      "source": [
        "for index, key in label_dict.items():\n",
        "    print(index, key)"
      ],
      "metadata": {
        "colab": {
          "base_uri": "https://localhost:8080/"
        },
        "id": "dqNZZ0MvWBzV",
        "outputId": "3ca3b397-9e25-499e-d0ad-2fc209a7b077"
      },
      "execution_count": 39,
      "outputs": [
        {
          "output_type": "stream",
          "name": "stdout",
          "text": [
            "0 alarm_query\n",
            "1 alarm_remove\n",
            "2 alarm_set\n",
            "3 audio_volume_down\n",
            "4 audio_volume_mute\n",
            "5 audio_volume_up\n",
            "6 calendar_query\n",
            "7 calendar_remove\n",
            "8 calendar_set\n",
            "9 cooking_recipe\n",
            "10 datetime_convert\n",
            "11 datetime_query\n",
            "12 email_addcontact\n",
            "13 email_query\n",
            "14 email_querycontact\n",
            "15 email_sendemail\n",
            "16 general_affirm\n",
            "17 general_commandstop\n",
            "18 general_confirm\n",
            "19 general_dontcare\n",
            "20 general_explain\n",
            "21 general_joke\n",
            "22 general_negate\n",
            "23 general_praise\n",
            "24 general_quirky\n",
            "25 general_repeat\n",
            "26 iot_cleaning\n",
            "27 iot_coffee\n",
            "28 iot_hue_lightchange\n",
            "29 iot_hue_lightdim\n",
            "30 iot_hue_lightoff\n",
            "31 iot_hue_lighton\n",
            "32 iot_hue_lightup\n",
            "33 iot_wemo_off\n",
            "34 iot_wemo_on\n",
            "35 lists_createoradd\n",
            "36 lists_query\n",
            "37 lists_remove\n",
            "38 music_likeness\n",
            "39 music_query\n",
            "40 music_settings\n",
            "41 news_query\n",
            "42 play_audiobook\n",
            "43 play_game\n",
            "44 play_music\n",
            "45 play_podcasts\n",
            "46 play_radio\n",
            "47 qa_currency\n",
            "48 qa_definition\n",
            "49 qa_factoid\n",
            "50 qa_maths\n",
            "51 qa_stock\n",
            "52 recommendation_events\n",
            "53 recommendation_locations\n",
            "54 recommendation_movies\n",
            "55 social_post\n",
            "56 social_query\n",
            "57 takeaway_order\n",
            "58 takeaway_query\n",
            "59 transport_query\n",
            "60 transport_taxi\n",
            "61 transport_ticket\n",
            "62 transport_traffic\n",
            "63 weather_query\n"
          ]
        }
      ]
    },
    {
      "cell_type": "markdown",
      "source": [
        "### Visualize Data"
      ],
      "metadata": {
        "id": "mXYXnSLUQPnr"
      }
    },
    {
      "cell_type": "code",
      "source": [
        "# Get length of all the messages in the train set\n",
        "seq_len = [len(i.split()) for i in train_text]\n",
        "\n",
        "pd.Series(seq_len).hist(bins = 30)"
      ],
      "metadata": {
        "colab": {
          "base_uri": "https://localhost:8080/",
          "height": 282
        },
        "id": "BEYh7BgKP31K",
        "outputId": "47f0a63d-96ca-448d-e23b-a7cf9bafa594"
      },
      "execution_count": 40,
      "outputs": [
        {
          "output_type": "execute_result",
          "data": {
            "text/plain": [
              "<matplotlib.axes._subplots.AxesSubplot at 0x7fe1053fd9d0>"
            ]
          },
          "metadata": {},
          "execution_count": 40
        },
        {
          "output_type": "display_data",
          "data": {
            "text/plain": [
              "<Figure size 432x288 with 1 Axes>"
            ],
            "image/png": "[encoded data removed]"
          },
          "metadata": {
            "needs_background": "light"
          }
        }
      ]
    },
    {
      "cell_type": "markdown",
      "source": [
        "## Creating Embeddings using DistilBERT "
      ],
      "metadata": {
        "id": "M5mSR4zZQXIy"
      }
    },
    {
      "cell_type": "code",
      "source": [
        "#Get DistilBERT Tokenizer\n",
        "tokenizer = DistilBertTokenizer.from_pretrained('distilbert-base-uncased')"
      ],
      "metadata": {
        "id": "6KFNaMH3ZrsR"
      },
      "execution_count": 47,
      "outputs": []
    },
    {
      "cell_type": "code",
      "source": [
        "# Check longest token sequence in entire text\n",
        "def checkForMaxTokenSeqInData(text_list, tokenizer_i):\n",
        "  \n",
        "    max_val = 0\n",
        "    for sent in text_list:\n",
        "        try:\n",
        "            sent_tok_len = len(tokenizer_i.tokenize(sent))\n",
        "            max_val = sent_tok_len if (sent_tok_len > max_val) else max_val\n",
        "        except:\n",
        "            pass\n",
        "    \n",
        "    print(f\"The maximum amount of tokens in the dataset is {max_val}\")\n",
        "    return max_val\n",
        "\n",
        "MAX_VAL = checkForMaxTokenSeqInData(train_text.tolist()+val_text.tolist(), \n",
        "                                    tokenizer)"
      ],
      "metadata": {
        "colab": {
          "base_uri": "https://localhost:8080/"
        },
        "id": "E1IxB3GKaedr",
        "outputId": "f0f5d930-3c7c-4af5-ee5c-6fa37e0bc014"
      },
      "execution_count": 51,
      "outputs": [
        {
          "output_type": "stream",
          "name": "stdout",
          "text": [
            "The maximum amount of tokens in the dataset is 24\n"
          ]
        }
      ]
    },
    {
      "cell_type": "code",
      "source": [
        "def encode_text(tokenizer_i, text, max_text_length):\n",
        "\n",
        "    # Encode the sentence\n",
        "    encodedText = tokenizer_i.batch_encode_plus(\n",
        "        batch_text_or_text_pairs=text,  # the sentence to be encoded\n",
        "        add_special_tokens=True,  # Add [CLS] and [SEP]\n",
        "        max_length = max_text_length,\n",
        "        padding='max_length',\n",
        "        truncation=True\n",
        "        )\n",
        "\n",
        "    # Get the input IDs and attention mask in tensor format\n",
        "    input_ids = tf.convert_to_tensor(encodedText['input_ids'])\n",
        "    attention_mask = tf.convert_to_tensor(encodedText['attention_mask'])\n",
        "\n",
        "    return input_ids, attention_mask\n",
        "\n",
        "train_input, train_mask = encode_text(tokenizer, train_text, MAX_VAL)\n",
        "val_input, val_mask = encode_text(tokenizer, val_text, MAX_VAL)\n",
        "\n",
        "train_model_inputs_and_masks = {\n",
        "    'inputs' : train_input,\n",
        "    'masks' : train_mask\n",
        "}\n",
        "\n",
        "val_model_inputs_and_masks = {\n",
        "    'inputs' : val_input,\n",
        "    'masks' : val_mask\n",
        "}"
      ],
      "metadata": {
        "id": "yr39D9u1QBhX"
      },
      "execution_count": 52,
      "outputs": []
    },
    {
      "cell_type": "markdown",
      "metadata": {
        "id": "i2USajN2MWjn"
      },
      "source": [
        "# Modelling\n",
        "\n",
        "## Build and Train Model"
      ]
    },
    {
      "cell_type": "code",
      "metadata": {
        "id": "GZfFboF85rIe",
        "colab": {
          "base_uri": "https://localhost:8080/"
        },
        "outputId": "e72f2a22-cd34-43a1-ee53-ec1c65bf54a9"
      },
      "source": [
        "def build_model(base_model, trainable=False, params={}):\n",
        "    inputs = Input(shape = (params['max_seq_length'],), dtype='int64')\n",
        "    masks  = Input(shape = (params['max_seq_length'],), dtype='int64')\n",
        "\n",
        "    base_model.trainable = trainable\n",
        "\n",
        "    dbert_output = base_model(inputs, attention_mask=masks)\n",
        "    # dbert_last_hidden_state gets you the output encoding for each of your tokens.ok \n",
        "    # Each such encoding is a vector with 768 values. The first token fed into the model is [cls]\n",
        "    # which can be used to build a sentence classification network\n",
        "    dbert_last_hidden_state = dbert_output.last_hidden_state\n",
        "\n",
        "    dense_layer = Dense(params['dense_layer_1_units'],activation='relu')(dbert_last_hidden_state[:, 0, :])\n",
        "    dropout_layer = Dropout(params['dropout_rate_1'])(dense_layer)\n",
        "    dense_layer = Dense(params['dense_layer_2_units'],activation='relu')(dropout_layer)\n",
        "    probs = Dense(len(label_dict), activation='softmax',kernel_regularizer=regularizers.l2(params['regularizer_l2_rate']), name=\"output\")(dense_layer)\n",
        "\n",
        "    model = keras.Model(inputs=[inputs, masks], outputs=probs)\n",
        "    model.summary()\n",
        "    return model\n",
        "\n",
        "dbert_model = TFDistilBertModel.from_pretrained('distilbert-base-uncased')\n",
        "params={\n",
        "        \"dense_layer_1_units\": 128,        \n",
        "        \"dropout_rate_1\": 0.1,\n",
        "\t      \"dense_layer_2_units\": 64,\n",
        "        \"regularizer_l2_rate\":0.01,\n",
        "        \"max_seq_length\":MAX_VAL\n",
        "        }\n",
        "\n",
        "model = build_model(dbert_model, params=params)"
      ],
      "execution_count": 53,
      "outputs": [
        {
          "output_type": "stream",
          "name": "stderr",
          "text": [
            "Some layers from the model checkpoint at distilbert-base-uncased were not used when initializing TFDistilBertModel: ['activation_13', 'vocab_layer_norm', 'vocab_transform', 'vocab_projector']\n",
            "- This IS expected if you are initializing TFDistilBertModel from the checkpoint of a model trained on another task or with another architecture (e.g. initializing a BertForSequenceClassification model from a BertForPreTraining model).\n",
            "- This IS NOT expected if you are initializing TFDistilBertModel from the checkpoint of a model that you expect to be exactly identical (initializing a BertForSequenceClassification model from a BertForSequenceClassification model).\n",
            "All the layers of TFDistilBertModel were initialized from the model checkpoint at distilbert-base-uncased.\n",
            "If your task is similar to the task the model of the checkpoint was trained on, you can already use TFDistilBertModel for predictions without further training.\n"
          ]
        },
        {
          "output_type": "stream",
          "name": "stdout",
          "text": [
            "Model: \"model_2\"\n",
            "__________________________________________________________________________________________________\n",
            " Layer (type)                   Output Shape         Param #     Connected to                     \n",
            "==================================================================================================\n",
            " input_5 (InputLayer)           [(None, 24)]         0           []                               \n",
            "                                                                                                  \n",
            " input_6 (InputLayer)           [(None, 24)]         0           []                               \n",
            "                                                                                                  \n",
            " tf_distil_bert_model_2 (TFDist  TFBaseModelOutput(l  66362880   ['input_5[0][0]',                \n",
            " ilBertModel)                   ast_hidden_state=(N               'input_6[0][0]']                \n",
            "                                one, 24, 768),                                                    \n",
            "                                 hidden_states=None                                               \n",
            "                                , attentions=None)                                                \n",
            "                                                                                                  \n",
            " tf.__operators__.getitem_2 (Sl  (None, 768)         0           ['tf_distil_bert_model_2[0][0]'] \n",
            " icingOpLambda)                                                                                   \n",
            "                                                                                                  \n",
            " dense_4 (Dense)                (None, 128)          98432       ['tf.__operators__.getitem_2[0][0\n",
            "                                                                 ]']                              \n",
            "                                                                                                  \n",
            " dropout_59 (Dropout)           (None, 128)          0           ['dense_4[0][0]']                \n",
            "                                                                                                  \n",
            " dense_5 (Dense)                (None, 64)           8256        ['dropout_59[0][0]']             \n",
            "                                                                                                  \n",
            " output (Dense)                 (None, 64)           4160        ['dense_5[0][0]']                \n",
            "                                                                                                  \n",
            "==================================================================================================\n",
            "Total params: 66,473,728\n",
            "Trainable params: 110,848\n",
            "Non-trainable params: 66,362,880\n",
            "__________________________________________________________________________________________________\n"
          ]
        }
      ]
    },
    {
      "cell_type": "code",
      "source": [
        "def compile_model(model):\n",
        "\n",
        "    optimizer = keras.optimizers.Adam(learning_rate=1e-5)\n",
        "    loss = keras.losses.sparse_categorical_crossentropy\n",
        "    model.compile(optimizer=optimizer,\n",
        "              loss=loss,\n",
        "              metrics='accuracy')\n",
        "    return model\n",
        "\n",
        "model = compile_model(model)"
      ],
      "metadata": {
        "id": "Z3EyvQbSzu5m"
      },
      "execution_count": 55,
      "outputs": []
    },
    {
      "cell_type": "code",
      "source": [
        "def train_model(model, model_inputs_and_masks_train, model_inputs_and_masks_val,\n",
        "    y_train, y_val, batch_size, num_epochs):\n",
        "\n",
        "    # Training Data - Tensor Conversion\n",
        "    input_ids_train = model_inputs_and_masks_train['inputs']\n",
        "    attention_masks_train = model_inputs_and_masks_train['masks']\n",
        "    labels_train = tf.convert_to_tensor(y_train[:])\n",
        "\n",
        "    # Validation data - Tensor Conversion\n",
        "    input_ids_val = model_inputs_and_masks_val['inputs']\n",
        "    attention_masks_val = model_inputs_and_masks_val['masks']\n",
        "    labels_val = tf.convert_to_tensor(y_val[:])\n",
        "\n",
        "    # Preparing Training Dataset\n",
        "    dataset_train = tf.data.Dataset.from_tensors(( (input_ids_train, attention_masks_train), labels_train ))\n",
        "\n",
        "    history = model.fit(dataset_train,\n",
        "          epochs=num_epochs,\n",
        "          validation_data=([input_ids_val,attention_masks_val],labels_val),\n",
        "          batch_size=batch_size, verbose=1)\n",
        "    \n",
        "    return model, history\n",
        "\n",
        "model, history = train_model(model, train_model_inputs_and_masks, val_model_inputs_and_masks, train_y, val_y, batch_size=128, num_epochs=5)"
      ],
      "metadata": {
        "id": "Nz8kT3f8zykl",
        "colab": {
          "base_uri": "https://localhost:8080/"
        },
        "outputId": "90f6bd30-4b2d-45ce-e33a-fbefbbd52674"
      },
      "execution_count": null,
      "outputs": [
        {
          "output_type": "stream",
          "name": "stdout",
          "text": [
            "Epoch 1/5\n",
            "1/1 [==============================] - 378s 378s/step - loss: 4.8636 - accuracy: 0.0111 - val_loss: 4.8586 - val_accuracy: 0.0068\n",
            "Epoch 2/5\n",
            "1/1 [==============================] - 367s 367s/step - loss: 4.8603 - accuracy: 0.0117 - val_loss: 4.8578 - val_accuracy: 0.0068\n",
            "Epoch 3/5\n",
            "1/1 [==============================] - ETA: 0s - loss: 4.8612 - accuracy: 0.0145"
          ]
        }
      ]
    }
  ]
}